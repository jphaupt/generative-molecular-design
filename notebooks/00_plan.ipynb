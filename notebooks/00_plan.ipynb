{
 "cells": [
  {
   "cell_type": "markdown",
   "metadata": {},
   "source": [
    "# Generative AI for Molecule Design\n",
    "\n",
    "This is a toy project using generative AI to study molecule design. I am especially interested in its application in drug discovery. \n",
    "\n",
    "However, since this is an educative project, and since I am only using my laptop with a fairly modest GPU, I will only be solving a \"toy problem\" as a proof of concept."
   ]
  },
  {
   "cell_type": "markdown",
   "metadata": {},
   "source": [
    "## Project Plan\n",
    "\n",
    "Idea: Train a generative model (such as a variational autoencoder or diffusion model) to design (new) bioactive molecules,\n",
    "in particular kinase inhibitors[^1] for cancer therapy. \n",
    "\n",
    "I plan to use knowledge from my studies in quantum chemistry and computer science, using features like the HOMO-LUMO gap,\n",
    "partial charges, and electronic excitations into the model, as well as physical constraints to ensure realistic molecules\n",
    "\n",
    "[^1]: TODO: I will want to write more general notes one kinase inhibitors later.\n",
    "\n",
    "### To start \n",
    "\n",
    "0. Set up directory structure, with src/ tests/ notebooks/ experiments/\n",
    "1. Explore QM9 dataset, make sure you can visualise molecules\n",
    "   1. Make sure to visualize both molecular graphs and properties (like HOMO-LUMO gap, molecular weight, etc.) to get a sense of the data distribution\n",
    "   2. It might also help to visualize the correlation between different properties to identify which targets might be more informative\n",
    "2. Train a simple GraphVAE on the QM9 dataset\n",
    "   1. Perhaps only use a subset of the targets -- not sure which but targeting the atomisation energy at 0 K as well as room temperature probably doesn't make sense\n",
    "      1. HOMO-LUMO gap, dipole moment, molecular weight\n",
    "      2. Verifying the VAE’s reconstruction quality on both molecular graph and properties to ensure the model learns meaningful representations\n",
    "3. Verify that you can generate random molecules by sampling the latent space randomly\n",
    "   1. Ensure that the molecules look realistic and consistent with the distribution in QM9\n",
    "4. Use a simple reinforcement learning algorithm to search for the molecule that has the smallest HOMO-LUMO gap\n",
    "   1. Note: this will require calculating properties e.g. with PySCF for every new molecule to feed back into the model\n",
    "   2. A smaller HOMO-LUMO gap indicates high reactivity\n",
    "   3. This is not a realistic target in drug discovery, but it is a reasonable surrogate for a simple \"toy problem\" such as this\n",
    "5. Once that is done...\n",
    "\n",
    "### Next steps\n",
    "\n",
    "6. Modify the model to enforce realistic physics, i.e. that the models we generate are actually stable\n",
    "   1. I'm not really sure what this will mean in practice, but I do not want to generate molecules that cannot exist anyway\n",
    "   2. Introduce constraints during the molecule generation process (e.g., valid bond lengths, bond angles)\n",
    "   3. Use molecular force fields\n",
    "   4. Experiment with deep GNNs instead of VAEs (primarily using VAEs since I already have experience, albeit for a different type of problem)\n",
    "7. Augment dataset to include biologically-relevant properties, e.g. from ZINC\n",
    "   1. This will allow you to target e.g. binding free energy, binding affinities, low toxicity, logP ...\n",
    "8. Use heuristics and methods from drug discovery (such as Lipinski's rule of five) to verify generated molecules\n",
    "   1. QED (Quantitative Estimate of Drug-likeness) or ADMET (absorption, distribution, metabolism, excretion, toxicity)"
   ]
  },
  {
   "cell_type": "markdown",
   "metadata": {},
   "source": [
    "### Project Structure\n",
    "Might look something like this \n",
    "\n",
    "```text\n",
    "generative-molecular-design/\n",
    "├── data/\n",
    "│   ├── raw/                  # Raw datasets (e.g., QM9, ZINC, etc.)\n",
    "│   ├── processed/            # Preprocessed and cleaned data (e.g., graphs, properties, etc.)\n",
    "│   └── augmented/            # Augmented data (e.g., biologically-relevant data from ZINC)\n",
    "├── notebooks/                # Jupyter notebooks for exploration and analysis\n",
    "|   ├── 00_plan.ipynb         # This Jupyter notebook\n",
    "│   ├── 01_explore_qm9.ipynb  # Explore QM9 dataset and visualize molecules\n",
    "│   ├── 02_train_graphvae.ipynb  # Train GraphVAE on QM9 dataset\n",
    "│   └── 03_rl_homo_gap_search.ipynb  # Reinforcement learning for searching HOMO-LUMO gap\n",
    "├── mygenai/                  # Main source code for the project\n",
    "│   ├── __init__.py           # Make it a Python package\n",
    "│   ├── data_preprocessing.py # Preprocessing functions for datasets\n",
    "│   ├── graphvae.py           # GraphVAE model definition\n",
    "│   ├── reinforcement_learning.py # Reinforcement learning module\n",
    "│   ├── pyscf_utils.py        # Interface with PySCF for quantum chemistry calculations\n",
    "│   ├── molecule_generation.py # Functions for generating and evaluating molecules\n",
    "│   └── utils.py              # General utility functions (e.g., visualization, data saving)\n",
    "├── tests/                    # Unit tests for the code\n",
    "│   ├── test_graphvae.py       # Tests for GraphVAE functionality\n",
    "│   ├── test_rl.py            # Tests for reinforcement learning algorithm\n",
    "│   ├── test_molecule_generation.py  # Tests for molecule generation and validation\n",
    "│   └── test_pyscf_utils.py   # Tests for PySCF integration\n",
    "├── docs/                     # Documentation folder\n",
    "│   ├── index.rst             # Main entry point for the documentation\n",
    "│   ├── requirements.txt      # List of dependencies\n",
    "│   ├── README.md             # Project overview, setup, and usage instructions\n",
    "│   └── api_reference.rst     # If you have an API or specific functions to document\n",
    "├── experiments/              # Logs, model outputs, and experiment tracking\n",
    "│   ├── graphvae_model/       # Folder to save trained GraphVAE models\n",
    "│   ├── rl_experiment_01/     # Reinforcement learning logs and data\n",
    "│   └── molecule_results/     # Folder to store generated molecules and their properties\n",
    "├── .gitignore                # Files to ignore in version control (e.g., model checkpoints)\n",
    "└── setup.py                  # For package setup and dependency management\n",
    "```"
   ]
  }
 ],
 "metadata": {
  "kernelspec": {
   "display_name": "Python 3",
   "language": "python",
   "name": "python3"
  },
  "language_info": {
   "codemirror_mode": {
    "name": "ipython",
    "version": 3
   },
   "file_extension": ".py",
   "mimetype": "text/x-python",
   "name": "python",
   "nbconvert_exporter": "python",
   "pygments_lexer": "ipython3",
   "version": "3.12.9"
  }
 },
 "nbformat": 4,
 "nbformat_minor": 2
}
