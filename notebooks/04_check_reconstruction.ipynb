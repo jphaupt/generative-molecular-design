{
 "cells": [
  {
   "cell_type": "markdown",
   "metadata": {},
   "source": [
    "# Visualise NN-generated molecules"
   ]
  },
  {
   "cell_type": "code",
   "execution_count": 7,
   "metadata": {},
   "outputs": [],
   "source": [
    "import torch\n",
    "import matplotlib.pyplot as plt\n",
    "from IPython.display import display, HTML\n",
    "from torch_geometric.loader import DataLoader\n",
    "from torch_geometric.datasets import QM9\n",
    "\n",
    "from mygenai.models.graphvae import PropertyConditionedVAE\n",
    "from mygenai.utils.data_exploration import to_rdkit, visualise_molecule, moltosvg\n",
    "from mygenai.utils.transforms import CompleteGraph\n"
   ]
  },
  {
   "cell_type": "code",
   "execution_count": 8,
   "metadata": {},
   "outputs": [
    {
     "name": "stderr",
     "output_type": "stream",
     "text": [
      "/tmp/ipykernel_59388/3136404564.py:4: FutureWarning: You are using `torch.load` with `weights_only=False` (the current default value), which uses the default pickle module implicitly. It is possible to construct malicious pickle data which will execute arbitrary code during unpickling (See https://github.com/pytorch/pytorch/blob/main/SECURITY.md#untrusted-models for more details). In a future release, the default value for `weights_only` will be flipped to `True`. This limits the functions that could be executed during unpickling. Arbitrary objects will no longer be allowed to be loaded via this mode unless they are explicitly allowlisted by the user via `torch.serialization.add_safe_globals`. We recommend you start setting `weights_only=True` for any use case where you don't have full control of the loaded file. Please open an issue on GitHub for any issues related to this experimental feature.\n",
      "  model.load_state_dict(torch.load('best_vae_model_recon_only.pt'))\n"
     ]
    },
    {
     "data": {
      "text/plain": [
       "<All keys matched successfully>"
      ]
     },
     "execution_count": 8,
     "metadata": {},
     "output_type": "execute_result"
    }
   ],
   "source": [
    "# load model\n",
    "device = torch.device('cuda' if torch.cuda.is_available() else 'cpu')\n",
    "model = PropertyConditionedVAE(num_layers=4, emb_dim=64, in_dim=11, edge_dim=4, latent_dim=32)\n",
    "model.load_state_dict(torch.load('best_vae_model_recon_only.pt'))"
   ]
  },
  {
   "cell_type": "code",
   "execution_count": 9,
   "metadata": {},
   "outputs": [
    {
     "data": {
      "text/plain": [
       "PropertyConditionedVAE(\n",
       "  (encoder): Encoder(\n",
       "    (lin_in): Linear(in_features=11, out_features=64, bias=True)\n",
       "    (convs): ModuleList(\n",
       "      (0-1): 2 x EquivariantMPNNLayer(emb_dim=64, aggr=add)\n",
       "    )\n",
       "    (mu): Linear(in_features=64, out_features=32, bias=True)\n",
       "    (log_var): Linear(in_features=64, out_features=32, bias=True)\n",
       "    (property_predictor): Sequential(\n",
       "      (0): Linear(in_features=32, out_features=64, bias=True)\n",
       "      (1): ReLU()\n",
       "      (2): BatchNorm1d(64, eps=1e-05, momentum=0.1, affine=True, track_running_stats=True)\n",
       "      (3): Linear(in_features=64, out_features=1, bias=True)\n",
       "    )\n",
       "  )\n",
       "  (decoder): ConditionalDecoder(\n",
       "    (lin_latent): Linear(in_features=33, out_features=64, bias=True)\n",
       "    (node_decoder): Sequential(\n",
       "      (0): Linear(in_features=64, out_features=64, bias=True)\n",
       "      (1): ReLU()\n",
       "      (2): BatchNorm1d(64, eps=1e-05, momentum=0.1, affine=True, track_running_stats=True)\n",
       "      (3): Linear(in_features=64, out_features=11, bias=True)\n",
       "      (4): Tanh()\n",
       "    )\n",
       "    (pos_decoder): Sequential(\n",
       "      (0): Linear(in_features=64, out_features=64, bias=True)\n",
       "      (1): ReLU()\n",
       "      (2): BatchNorm1d(64, eps=1e-05, momentum=0.1, affine=True, track_running_stats=True)\n",
       "      (3): Linear(in_features=64, out_features=3, bias=True)\n",
       "      (4): Tanh()\n",
       "    )\n",
       "    (num_nodes_predictor): Sequential(\n",
       "      (0): Linear(in_features=64, out_features=64, bias=True)\n",
       "      (1): ReLU()\n",
       "      (2): Linear(in_features=64, out_features=1, bias=True)\n",
       "    )\n",
       "    (edge_existence): Sequential(\n",
       "      (0): Linear(in_features=128, out_features=64, bias=True)\n",
       "      (1): ReLU()\n",
       "      (2): BatchNorm1d(64, eps=1e-05, momentum=0.1, affine=True, track_running_stats=True)\n",
       "      (3): Linear(in_features=64, out_features=1, bias=True)\n",
       "      (4): Sigmoid()\n",
       "    )\n",
       "    (edge_features): Sequential(\n",
       "      (0): Linear(in_features=128, out_features=64, bias=True)\n",
       "      (1): ReLU()\n",
       "      (2): BatchNorm1d(64, eps=1e-05, momentum=0.1, affine=True, track_running_stats=True)\n",
       "      (3): Linear(in_features=64, out_features=4, bias=True)\n",
       "    )\n",
       "  )\n",
       ")"
      ]
     },
     "execution_count": 9,
     "metadata": {},
     "output_type": "execute_result"
    }
   ],
   "source": [
    "model = model.to(device)\n",
    "model.eval()"
   ]
  },
  {
   "cell_type": "code",
   "execution_count": 12,
   "metadata": {},
   "outputs": [],
   "source": [
    "dataset = QM9(root=\"../data/QM9\", transform=CompleteGraph())\n",
    "dataloader = DataLoader(dataset, batch_size=1, shuffle=True)"
   ]
  },
  {
   "cell_type": "code",
   "execution_count": 13,
   "metadata": {},
   "outputs": [],
   "source": [
    "def reconstruct_molecule(model, data):\n",
    "    data = data.to(device)\n",
    "    with torch.no_grad():\n",
    "        # Forward pass\n",
    "        node_features, positions, mu, log_var, property_pred, num_nodes = model(data)\n",
    "\n",
    "        # Create a copy of the data object for the reconstruction\n",
    "        recon_data = data.clone()\n",
    "\n",
    "        # Replace features and positions with reconstructed ones\n",
    "        # We use only the first graph since batch_size=1\n",
    "        n = num_nodes[0].item()\n",
    "        recon_data.x = node_features[:n]\n",
    "        recon_data.pos = positions[:n]\n",
    "\n",
    "        return recon_data"
   ]
  },
  {
   "cell_type": "code",
   "execution_count": 17,
   "metadata": {},
   "outputs": [
    {
     "data": {
      "application/3dmoljs_load.v0": "<div id=\"3dmolviewer_17449876180222602\"  style=\"position: relative; width: 300px; height: 300px;\">\n        <p id=\"3dmolwarning_17449876180222602\" style=\"background-color:#ffcccc;color:black\">3Dmol.js failed to load for some reason.  Please check your browser console for error messages.<br></p>\n        </div>\n<script>\n\nvar loadScriptAsync = function(uri){\n  return new Promise((resolve, reject) => {\n    //this is to ignore the existence of requirejs amd\n    var savedexports, savedmodule;\n    if (typeof exports !== 'undefined') savedexports = exports;\n    else exports = {}\n    if (typeof module !== 'undefined') savedmodule = module;\n    else module = {}\n\n    var tag = document.createElement('script');\n    tag.src = uri;\n    tag.async = true;\n    tag.onload = () => {\n        exports = savedexports;\n        module = savedmodule;\n        resolve();\n    };\n  var firstScriptTag = document.getElementsByTagName('script')[0];\n  firstScriptTag.parentNode.insertBefore(tag, firstScriptTag);\n});\n};\n\nif(typeof $3Dmolpromise === 'undefined') {\n$3Dmolpromise = null;\n  $3Dmolpromise = loadScriptAsync('https://cdnjs.cloudflare.com/ajax/libs/3Dmol/2.4.2/3Dmol-min.js');\n}\n\nvar viewer_17449876180222602 = null;\nvar warn = document.getElementById(\"3dmolwarning_17449876180222602\");\nif(warn) {\n    warn.parentNode.removeChild(warn);\n}\n$3Dmolpromise.then(function() {\nviewer_17449876180222602 = $3Dmol.createViewer(document.getElementById(\"3dmolviewer_17449876180222602\"),{backgroundColor:\"white\"});\nviewer_17449876180222602.zoomTo();\n\tviewer_17449876180222602.addModel(\"\\n     RDKit          3D\\n\\n  5  4  0  0  0  0  0  0  0  0999 V2000\\n    0.0000   -0.0000    0.0000 C   0  0  0  0  0  0  0  0  0  0  0  0\\n    0.8982    0.1347   -0.6066 H   0  0  0  0  0  0  0  0  0  0  0  0\\n    0.1334   -0.8580    0.6626 H   0  0  0  0  0  0  0  0  0  0  0  0\\n   -0.1739    0.8977    0.5973 H   0  0  0  0  0  0  0  0  0  0  0  0\\n   -0.8577   -0.1744   -0.6533 H   0  0  0  0  0  0  0  0  0  0  0  0\\n  1  2  1  0\\n  1  3  1  0\\n  1  4  1  0\\n  1  5  1  0\\nM  END\\n\",\"mol\");\n\tviewer_17449876180222602.setStyle({\"stick\": {}});\n\tviewer_17449876180222602.zoomTo();\nviewer_17449876180222602.render();\n});\n</script>",
      "text/html": [
       "<div id=\"3dmolviewer_17449876180222602\"  style=\"position: relative; width: 300px; height: 300px;\">\n",
       "        <p id=\"3dmolwarning_17449876180222602\" style=\"background-color:#ffcccc;color:black\">3Dmol.js failed to load for some reason.  Please check your browser console for error messages.<br></p>\n",
       "        </div>\n",
       "<script>\n",
       "\n",
       "var loadScriptAsync = function(uri){\n",
       "  return new Promise((resolve, reject) => {\n",
       "    //this is to ignore the existence of requirejs amd\n",
       "    var savedexports, savedmodule;\n",
       "    if (typeof exports !== 'undefined') savedexports = exports;\n",
       "    else exports = {}\n",
       "    if (typeof module !== 'undefined') savedmodule = module;\n",
       "    else module = {}\n",
       "\n",
       "    var tag = document.createElement('script');\n",
       "    tag.src = uri;\n",
       "    tag.async = true;\n",
       "    tag.onload = () => {\n",
       "        exports = savedexports;\n",
       "        module = savedmodule;\n",
       "        resolve();\n",
       "    };\n",
       "  var firstScriptTag = document.getElementsByTagName('script')[0];\n",
       "  firstScriptTag.parentNode.insertBefore(tag, firstScriptTag);\n",
       "});\n",
       "};\n",
       "\n",
       "if(typeof $3Dmolpromise === 'undefined') {\n",
       "$3Dmolpromise = null;\n",
       "  $3Dmolpromise = loadScriptAsync('https://cdnjs.cloudflare.com/ajax/libs/3Dmol/2.4.2/3Dmol-min.js');\n",
       "}\n",
       "\n",
       "var viewer_17449876180222602 = null;\n",
       "var warn = document.getElementById(\"3dmolwarning_17449876180222602\");\n",
       "if(warn) {\n",
       "    warn.parentNode.removeChild(warn);\n",
       "}\n",
       "$3Dmolpromise.then(function() {\n",
       "viewer_17449876180222602 = $3Dmol.createViewer(document.getElementById(\"3dmolviewer_17449876180222602\"),{backgroundColor:\"white\"});\n",
       "viewer_17449876180222602.zoomTo();\n",
       "\tviewer_17449876180222602.addModel(\"\\n     RDKit          3D\\n\\n  5  4  0  0  0  0  0  0  0  0999 V2000\\n    0.0000   -0.0000    0.0000 C   0  0  0  0  0  0  0  0  0  0  0  0\\n    0.8982    0.1347   -0.6066 H   0  0  0  0  0  0  0  0  0  0  0  0\\n    0.1334   -0.8580    0.6626 H   0  0  0  0  0  0  0  0  0  0  0  0\\n   -0.1739    0.8977    0.5973 H   0  0  0  0  0  0  0  0  0  0  0  0\\n   -0.8577   -0.1744   -0.6533 H   0  0  0  0  0  0  0  0  0  0  0  0\\n  1  2  1  0\\n  1  3  1  0\\n  1  4  1  0\\n  1  5  1  0\\nM  END\\n\",\"mol\");\n",
       "\tviewer_17449876180222602.setStyle({\"stick\": {}});\n",
       "\tviewer_17449876180222602.zoomTo();\n",
       "viewer_17449876180222602.render();\n",
       "});\n",
       "</script>"
      ]
     },
     "metadata": {},
     "output_type": "display_data"
    },
    {
     "data": {
      "text/plain": [
       "<py3Dmol.view at 0x7fb1ae184d40>"
      ]
     },
     "execution_count": 17,
     "metadata": {},
     "output_type": "execute_result"
    }
   ],
   "source": [
    "test_mol = dataset[0]\n",
    "test_mol.batch = torch.zeros(test_mol.x.size(0), dtype=torch.long, device=test_mol.x.device)\n",
    "visualise_molecule(test_mol)"
   ]
  },
  {
   "cell_type": "code",
   "execution_count": 19,
   "metadata": {},
   "outputs": [],
   "source": [
    "recon_mol = reconstruct_molecule(model, test_mol)"
   ]
  },
  {
   "cell_type": "code",
   "execution_count": 25,
   "metadata": {},
   "outputs": [
    {
     "name": "stdout",
     "output_type": "stream",
     "text": [
      "Original molecule:\n",
      "SMILES: [H]C([H])([H])[H]\n",
      "Z tensor([6, 1, 1, 1, 1], device='cuda:0')\n",
      "pos tensor([[-1.2700e-02,  1.0858e+00,  8.0000e-03],\n",
      "        [ 2.2000e-03, -6.0000e-03,  2.0000e-03],\n",
      "        [ 1.0117e+00,  1.4638e+00,  3.0000e-04],\n",
      "        [-5.4080e-01,  1.4475e+00, -8.7660e-01],\n",
      "        [-5.2380e-01,  1.4379e+00,  9.0640e-01]], device='cuda:0')\n",
      "Reconstructed molecule:\n",
      "SMILES: [H]C([H])([H])[H]\n",
      "Z tensor([6, 1, 1, 1, 1], device='cuda:0')\n",
      "pos tensor([[6.9755, 6.9755, 6.9755],\n",
      "        [6.9755, 6.9755, 6.9755],\n",
      "        [6.9755, 6.9755, 6.9755],\n",
      "        [6.9755, 6.9755, 6.9755],\n",
      "        [6.9755, 6.9755, 6.9755],\n",
      "        [6.9755, 6.9755, 6.9755],\n",
      "        [6.9755, 6.9755, 6.9755],\n",
      "        [6.9755, 6.9755, 6.9755],\n",
      "        [6.9755, 6.9755, 6.9755],\n",
      "        [6.9755, 6.9755, 6.9755],\n",
      "        [6.9755, 6.9755, 6.9755],\n",
      "        [6.9755, 6.9755, 6.9755],\n",
      "        [6.9755, 6.9755, 6.9755],\n",
      "        [6.9755, 6.9755, 6.9755],\n",
      "        [6.9755, 6.9755, 6.9755],\n",
      "        [6.9755, 6.9755, 6.9755],\n",
      "        [6.9755, 6.9755, 6.9755],\n",
      "        [6.9755, 6.9755, 6.9755],\n",
      "        [6.9755, 6.9755, 6.9755]], device='cuda:0')\n"
     ]
    }
   ],
   "source": [
    "print(\"Original molecule:\")\n",
    "print(\"SMILES:\", test_mol.smiles)\n",
    "print(\"Z\", test_mol.z)\n",
    "print(\"pos\", test_mol.pos)\n",
    "print(\"Reconstructed molecule:\")\n",
    "print(\"SMILES:\", recon_mol.smiles)\n",
    "print(\"Z\", recon_mol.z)\n",
    "print(\"pos\", recon_mol.pos)\n"
   ]
  }
 ],
 "metadata": {
  "kernelspec": {
   "display_name": "Python 3",
   "language": "python",
   "name": "python3"
  },
  "language_info": {
   "codemirror_mode": {
    "name": "ipython",
    "version": 3
   },
   "file_extension": ".py",
   "mimetype": "text/x-python",
   "name": "python",
   "nbconvert_exporter": "python",
   "pygments_lexer": "ipython3",
   "version": "3.12.9"
  }
 },
 "nbformat": 4,
 "nbformat_minor": 2
}
