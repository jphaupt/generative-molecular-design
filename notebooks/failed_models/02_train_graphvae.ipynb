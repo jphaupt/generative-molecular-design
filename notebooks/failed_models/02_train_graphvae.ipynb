{
 "cells": [
  {
   "cell_type": "markdown",
   "metadata": {},
   "source": [
    "# A Simple Variational Autoencoder\n",
    "\n",
    "Here we explore using a simple variational autoencoder trained on the QM9 dataset to generate new molecules.\n",
    "\n",
    "The goal of this notebook is to provide a proof of concept that you can use a VAE to generate new molecules. Some physical restrictions will also be enforced. The model will also be saved for easy reloading in later notebooks."
   ]
  },
  {
   "cell_type": "markdown",
   "metadata": {},
   "source": [
    "TODO: \n",
    "- [ ] add brief theory summary\n",
    "- [ ] move what makes sense to mygenai src\n",
    "- [ ] create nn configuration section at top for better maintainability\n",
    "- [ ] use proper logging instead of print statements\n",
    "- [ ] make the model take edge_index optionally and construct a full graph if not given\n",
    "- [ ] have the model predict the number of nodes (atoms)"
   ]
  },
  {
   "cell_type": "code",
   "execution_count": 2,
   "metadata": {},
   "outputs": [],
   "source": [
    "import torch\n",
    "import torch.nn as nn\n",
    "from torch_geometric.utils import to_dense_batch\n",
    "import torch_geometric as pyg\n",
    "import torch_geometric.nn as pyg_nn\n",
    "from torch_geometric.datasets import QM9\n",
    "from torch_geometric.loader import DataLoader\n",
    "import mygenai\n",
    "from sklearn.model_selection import train_test_split\n",
    "import numpy as np\n",
    "\n",
    "dataset = QM9(root=\"../data/QM9\")"
   ]
  },
  {
   "cell_type": "code",
   "execution_count": 3,
   "metadata": {},
   "outputs": [
    {
     "name": "stdout",
     "output_type": "stream",
     "text": [
      "True\n",
      "1\n",
      "NVIDIA GeForce RTX 3050 Ti Laptop GPU\n"
     ]
    }
   ],
   "source": [
    "# check if CUDA is available\n",
    "print(torch.cuda.is_available())\n",
    "print(torch.cuda.device_count())\n",
    "print(torch.cuda.get_device_name(0))"
   ]
  },
  {
   "cell_type": "code",
   "execution_count": 4,
   "metadata": {},
   "outputs": [],
   "source": [
    "class GraphVAE(nn.Module):\n",
    "    def __init__(self, in_channels, hidden_dim, latent_dim):\n",
    "        super(GraphVAE, self).__init__()\n",
    "        self.in_channels = in_channels  # Store input feature dimension\n",
    "\n",
    "        self.encoder = pyg_nn.GCNConv(in_channels, hidden_dim)\n",
    "        self.fc_mu = nn.Linear(hidden_dim, latent_dim)  # Mean\n",
    "        self.fc_logvar = nn.Linear(hidden_dim, latent_dim)  # Log variance\n",
    "\n",
    "        self.node_decoder = nn.Sequential(\n",
    "            nn.Linear(latent_dim, hidden_dim),\n",
    "            nn.ReLU(),\n",
    "            nn.Linear(hidden_dim, in_channels)\n",
    "        )\n",
    "\n",
    "        # Edge Decoder (for adjacency matrix reconstruction, must handle concatenated node embedding)\n",
    "        self.edge_decoder = nn.Sequential(\n",
    "            nn.Linear(2 * latent_dim, hidden_dim),\n",
    "            nn.ReLU(),\n",
    "            nn.Linear(hidden_dim, dataset.num_edge_features)\n",
    "        )\n",
    "        # self.edge_decoder = nn.Linear(latent_dim, dataset.num_edge_features)\n",
    "\n",
    "    # def generate_complete_graph(self, num_nodes):\n",
    "    #     # Generate a complete graph with the given number of nodes\n",
    "    #     edge_index = torch.combinations(torch.arange(num_nodes), r=2).t().contiguous()\n",
    "    #     edge_index = torch.cat([edge_index, edge_index.flip(0)], dim=-1) # add reverse edges for undirected graph\n",
    "    #     return edge_index.to(self.device) # TODO this doesn't work, no device set\n",
    "\n",
    "    def decode(self, z, edge_index=None):\n",
    "        # Decode node features\n",
    "        node_pred = self.node_decoder(z)\n",
    "\n",
    "        # QM9 edges represent interactions between pairs of atoms, so need two nodes per edge\n",
    "        edge_features = torch.cat([z[edge_index[0]], z[edge_index[1]]], dim=-1)\n",
    "        edge_pred = self.edge_decoder(edge_features)\n",
    "        return node_pred, edge_pred\n",
    "\n",
    "    def forward(self, x, edge_index):\n",
    "        # Encode\n",
    "        h = self.encoder(x, edge_index)\n",
    "        mu, logvar = self.fc_mu(h), self.fc_logvar(h)\n",
    "        # latent space sampling with reparametrisation trick\n",
    "        z = mu + torch.exp(0.5 * logvar) * torch.randn_like(mu)\n",
    "\n",
    "        node_pred, edge_pred = self.decode(z, edge_index)\n",
    "\n",
    "        return node_pred, edge_pred, mu, logvar"
   ]
  },
  {
   "cell_type": "code",
   "execution_count": 5,
   "metadata": {},
   "outputs": [],
   "source": [
    "def print_shapes(batch, node_pred, edge_pred, mu, logvar):\n",
    "    \"\"\"Print the shapes of the batch and predictions for debugging.\"\"\"\n",
    "    print(\"\\nShape Information:\")\n",
    "    print(f\"Batch features (batch.x): {batch.x.shape}\")\n",
    "    print(f\"Batch edge index (batch.edge_index): {batch.edge_index.shape}\")\n",
    "    print(f\"Batch edge attributes (batch.edge_attr): {batch.edge_attr.shape if hasattr(batch, 'edge_attr') else 'None'}\")\n",
    "    print(f\"Node predictions: {node_pred.shape}\")\n",
    "    print(f\"Edge predictions: {edge_pred.shape}\")\n",
    "    print(f\"Mu: {mu.shape}\")\n",
    "    print(f\"Logvar: {logvar.shape}\")"
   ]
  },
  {
   "cell_type": "code",
   "execution_count": 6,
   "metadata": {},
   "outputs": [
    {
     "name": "stdout",
     "output_type": "stream",
     "text": [
      "Using device: cuda\n"
     ]
    }
   ],
   "source": [
    "\n",
    "device = torch.device('cuda' if torch.cuda.is_available() else 'cpu')\n",
    "print(f\"Using device: {device}\")\n",
    "\n",
    "# Move model to GPU\n",
    "vae = GraphVAE(in_channels=dataset.num_features, hidden_dim=64, latent_dim=32).to(device)\n"
   ]
  },
  {
   "cell_type": "code",
   "execution_count": 7,
   "metadata": {},
   "outputs": [
    {
     "name": "stdout",
     "output_type": "stream",
     "text": [
      "Loaded existing model from best_basic_model.pt\n"
     ]
    }
   ],
   "source": [
    "optimizer = torch.optim.Adam(vae.parameters(), lr=1e-3)\n",
    "\n",
    "def loss_function(node_pred, edge_pred, node_true, edge_true, mu, logvar):\n",
    "    node_loss = torch.nn.functional.cross_entropy(node_pred, node_true, reduction='sum')\n",
    "    edge_loss = torch.nn.functional.binary_cross_entropy_with_logits(\n",
    "        edge_pred, edge_true, reduction='sum'\n",
    "    )\n",
    "    kl_loss = -0.5 * torch.sum(1 + logvar - mu.pow(2) - logvar.exp())\n",
    "    total_loss = node_loss + edge_loss + kl_loss\n",
    "\n",
    "    return total_loss, {\n",
    "        'node_loss': node_loss.item(),\n",
    "        'edge_loss': edge_loss.item(),\n",
    "        'kl_loss': kl_loss.item()\n",
    "    }\n",
    "\n",
    "# Data splitting (60/20/20)\n",
    "train_val_idx, test_idx = train_test_split(\n",
    "    np.arange(len(dataset)),\n",
    "    test_size=0.2,\n",
    "    random_state=42\n",
    ")\n",
    "train_idx, val_idx = train_test_split(\n",
    "    train_val_idx,\n",
    "    test_size=0.25,\n",
    "    random_state=42\n",
    ")\n",
    "\n",
    "train_loader = DataLoader(dataset[train_idx], batch_size=128, shuffle=True)\n",
    "val_loader = DataLoader(dataset[val_idx], batch_size=128, shuffle=False)\n",
    "test_loader = DataLoader(dataset[test_idx], batch_size=128, shuffle=False)\n",
    "\n",
    "# Training loop with validation\n",
    "try:\n",
    "    vae.load_state_dict(torch.load('best_basic_model.pt'))\n",
    "    print(\"Loaded existing model from best_basic_model.pt\")\n",
    "except FileNotFoundError:\n",
    "    print(\"No existing model found, starting training...\")\n",
    "    best_val_loss = float('inf')\n",
    "    patience = 5\n",
    "    patience_counter = 0\n",
    "    n_epochs = 50\n",
    "\n",
    "    for epoch in range(n_epochs):\n",
    "        # Training phase\n",
    "        vae.train()\n",
    "        train_metrics = {'total_loss': 0, 'node_loss': 0, 'edge_loss': 0, 'kl_loss': 0}\n",
    "\n",
    "        for batch in train_loader:\n",
    "            batch = batch.to(device)\n",
    "            optimizer.zero_grad()\n",
    "\n",
    "            # Forward pass\n",
    "            node_pred, edge_pred, mu, logvar = vae(batch.x, batch.edge_index)\n",
    "            # print_shapes(batch, node_pred, edge_pred, mu, logvar)\n",
    "\n",
    "            # Calculate loss\n",
    "            loss, metrics = loss_function(\n",
    "                node_pred, edge_pred,\n",
    "                batch.x, batch.edge_attr,\n",
    "                mu, logvar\n",
    "            )\n",
    "\n",
    "            # Backward pass\n",
    "            loss.backward()\n",
    "            optimizer.step()\n",
    "\n",
    "            # Update metrics\n",
    "            train_metrics['total_loss'] += loss.item()\n",
    "            for k, v in metrics.items():\n",
    "                train_metrics[k] += v\n",
    "\n",
    "        # Validation phase\n",
    "        vae.eval()\n",
    "        val_metrics = {'total_loss': 0, 'node_loss': 0, 'edge_loss': 0, 'kl_loss': 0}\n",
    "\n",
    "        with torch.no_grad():\n",
    "            for batch in val_loader:\n",
    "                batch = batch.to(device)\n",
    "                node_pred, edge_pred, mu, logvar = vae(batch.x, batch.edge_index)\n",
    "                loss, metrics = loss_function(\n",
    "                    node_pred, edge_pred,\n",
    "                    batch.x, batch.edge_attr,\n",
    "                    mu, logvar\n",
    "                )\n",
    "\n",
    "                val_metrics['total_loss'] += loss.item()\n",
    "                for k, v in metrics.items():\n",
    "                    val_metrics[k] += v\n",
    "\n",
    "        print(f\"\\nEpoch {epoch+1}/{n_epochs}\")\n",
    "        print(\"Training metrics:\")\n",
    "        for k, v in train_metrics.items():\n",
    "            print(f\"{k}: {v/len(train_loader):.4f}\")\n",
    "        print(\"\\nValidation metrics:\")\n",
    "        for k, v in val_metrics.items():\n",
    "            print(f\"{k}: {v/len(val_loader):.4f}\")\n",
    "\n",
    "        # Early stopping\n",
    "        val_loss = val_metrics['total_loss'] / len(val_loader)\n",
    "        if val_loss < best_val_loss:\n",
    "            best_val_loss = val_loss\n",
    "            patience_counter = 0\n",
    "            torch.save(vae.state_dict(), 'best_basic_model.pt')\n",
    "        else:\n",
    "            patience_counter += 1\n",
    "            if patience_counter >= patience:\n",
    "                print(\"\\nEarly stopping triggered!\")\n",
    "                break"
   ]
  },
  {
   "cell_type": "code",
   "execution_count": 13,
   "metadata": {},
   "outputs": [
    {
     "name": "stdout",
     "output_type": "stream",
     "text": [
      "\n",
      "Test metrics:\n",
      "total_loss: 13272.6769\n",
      "node_loss: 9239.2612\n",
      "edge_loss: 1599.3260\n",
      "kl_loss: 2434.0897\n"
     ]
    }
   ],
   "source": [
    "# evaluate model on test set\n",
    "vae.eval()\n",
    "test_metrics = {'total_loss': 0, 'node_loss': 0, 'edge_loss': 0, 'kl_loss': 0}\n",
    "\n",
    "with torch.no_grad():\n",
    "    for batch in test_loader:\n",
    "        batch = batch.to(device)\n",
    "        node_pred, edge_pred, mu, logvar = vae(batch.x, batch.edge_index)\n",
    "        loss, metrics = loss_function(\n",
    "            node_pred, edge_pred,\n",
    "            batch.x, batch.edge_attr,\n",
    "            mu, logvar\n",
    "        )\n",
    "\n",
    "        test_metrics['total_loss'] += loss.item()\n",
    "        for k, v in metrics.items():\n",
    "            test_metrics[k] += v\n",
    "\n",
    "print(\"\\nTest metrics:\")\n",
    "for k, v in test_metrics.items():\n",
    "    print(f\"{k}: {v/len(test_loader):.4f}\")"
   ]
  },
  {
   "cell_type": "code",
   "execution_count": 34,
   "metadata": {},
   "outputs": [
    {
     "name": "stdout",
     "output_type": "stream",
     "text": [
      "Raw node features shape: torch.Size([9, 11])\n",
      "Node features min/max: -23.86/7.06\n",
      "\n",
      "Node probabilities sum: tensor([1., 1., 1., 1., 1., 1., 1., 1., 1.], device='cuda:0')\n",
      "Edge probabilities shape: torch.Size([72, 4])\n",
      "\n",
      "Node types sum: 9.0\n",
      "Node types per position: tensor([0., 0., 0., 0., 0., 9., 0., 0., 0., 0., 0.], device='cuda:0')\n",
      "\n",
      "Number of edges: 72\n",
      "\n",
      "Final molecule structure:\n",
      "x shape: torch.Size([9, 11])\n",
      "edge_index shape: torch.Size([2, 72])\n",
      "edge_attr shape: torch.Size([72, 4])\n",
      "\n",
      "Testing RDKit conversion...\n"
     ]
    },
    {
     "ename": "ValueError",
     "evalue": "molecule has no atoms",
     "output_type": "error",
     "traceback": [
      "\u001b[31m---------------------------------------------------------------------------\u001b[39m",
      "\u001b[31mValueError\u001b[39m                                Traceback (most recent call last)",
      "\u001b[36mCell\u001b[39m\u001b[36m \u001b[39m\u001b[32mIn[34]\u001b[39m\u001b[32m, line 64\u001b[39m\n\u001b[32m     62\u001b[39m rdkit_mol = mygenai.utils.to_rdkit(generated_mol)\n\u001b[32m     63\u001b[39m \u001b[38;5;28;01mif\u001b[39;00m rdkit_mol \u001b[38;5;129;01mis\u001b[39;00m \u001b[38;5;129;01mnot\u001b[39;00m \u001b[38;5;28;01mNone\u001b[39;00m:\n\u001b[32m---> \u001b[39m\u001b[32m64\u001b[39m     \u001b[43mmygenai\u001b[49m\u001b[43m.\u001b[49m\u001b[43mutils\u001b[49m\u001b[43m.\u001b[49m\u001b[43mvisualise_molecule\u001b[49m\u001b[43m(\u001b[49m\u001b[43mgenerated_mol\u001b[49m\u001b[43m)\u001b[49m\n\u001b[32m     65\u001b[39m \u001b[38;5;28;01melse\u001b[39;00m:\n\u001b[32m     66\u001b[39m     \u001b[38;5;28mprint\u001b[39m(\u001b[33m\"\u001b[39m\u001b[33mFailed to generate valid molecule\u001b[39m\u001b[33m\"\u001b[39m)\n",
      "\u001b[36mFile \u001b[39m\u001b[32m~/dev/generative-molecular-design/mygenai/utils.py:220\u001b[39m, in \u001b[36m<lambda>\u001b[39m\u001b[34m(x)\u001b[39m\n\u001b[32m    217\u001b[39m     \u001b[38;5;28;01melse\u001b[39;00m:\n\u001b[32m    218\u001b[39m         \u001b[38;5;28;01mreturn\u001b[39;00m \u001b[38;5;28;01mNone\u001b[39;00m\n\u001b[32m--> \u001b[39m\u001b[32m220\u001b[39m visualise_molecule = \u001b[38;5;28;01mlambda\u001b[39;00m x: MolTo3DView(\u001b[43msmi2conf\u001b[49m\u001b[43m(\u001b[49m\u001b[43mChem\u001b[49m\u001b[43m.\u001b[49m\u001b[43mMolToSmiles\u001b[49m\u001b[43m(\u001b[49m\u001b[43mto_rdkit\u001b[49m\u001b[43m(\u001b[49m\u001b[43mx\u001b[49m\u001b[43m)\u001b[49m\u001b[43m)\u001b[49m\u001b[43m)\u001b[49m)\n",
      "\u001b[36mFile \u001b[39m\u001b[32m~/dev/generative-molecular-design/mygenai/utils.py:214\u001b[39m, in \u001b[36msmi2conf\u001b[39m\u001b[34m(smiles)\u001b[39m\n\u001b[32m    212\u001b[39m \u001b[38;5;28;01mif\u001b[39;00m mol \u001b[38;5;129;01mis\u001b[39;00m \u001b[38;5;129;01mnot\u001b[39;00m \u001b[38;5;28;01mNone\u001b[39;00m:\n\u001b[32m    213\u001b[39m     mol = Chem.AddHs(mol)\n\u001b[32m--> \u001b[39m\u001b[32m214\u001b[39m     \u001b[43mAllChem\u001b[49m\u001b[43m.\u001b[49m\u001b[43mEmbedMolecule\u001b[49m\u001b[43m(\u001b[49m\u001b[43mmol\u001b[49m\u001b[43m)\u001b[49m\n\u001b[32m    215\u001b[39m     AllChem.MMFFOptimizeMolecule(mol, maxIters=\u001b[32m200\u001b[39m)\n\u001b[32m    216\u001b[39m     \u001b[38;5;28;01mreturn\u001b[39;00m mol\n",
      "\u001b[31mValueError\u001b[39m: molecule has no atoms"
     ]
    }
   ],
   "source": [
    "from torch_geometric.data import Data\n",
    "\n",
    "def generate_molecule(vae, num_nodes=9, device='cuda'):\n",
    "    \"\"\"Generate a random molecule with fixed number of nodes.\"\"\"\n",
    "    # Sample from latent space\n",
    "    latent_sample = torch.randn(1, 32).to(device)\n",
    "    z = latent_sample.repeat(num_nodes, 1)\n",
    "\n",
    "    # Create complete graph\n",
    "    edge_index = torch.combinations(torch.arange(num_nodes), r=2).t().contiguous()\n",
    "    edge_index = torch.cat([edge_index, edge_index.flip(0)], dim=-1).to(device)\n",
    "\n",
    "    with torch.no_grad():\n",
    "        node_features, edge_features = vae.decode(z, edge_index)\n",
    "\n",
    "        # Debug node features\n",
    "        print(f\"Raw node features shape: {node_features.shape}\")\n",
    "        print(f\"Node features min/max: {node_features.min():.2f}/{node_features.max():.2f}\")\n",
    "\n",
    "        # Convert to probabilities\n",
    "        node_probs = torch.softmax(node_features, dim=-1)\n",
    "        edge_probs = torch.sigmoid(edge_features)\n",
    "\n",
    "        # Debug probabilities\n",
    "        print(f\"\\nNode probabilities sum: {node_probs.sum(dim=1)}\")  # Should be 1.0\n",
    "        print(f\"Edge probabilities shape: {edge_probs.shape}\")\n",
    "\n",
    "        # Create one-hot encoded node features\n",
    "        node_types = torch.zeros_like(node_probs)\n",
    "        node_types.scatter_(1, torch.argmax(node_probs, dim=-1).unsqueeze(-1), 1)\n",
    "\n",
    "        # Debug node types\n",
    "        print(f\"\\nNode types sum: {node_types.sum()}\")  # Should equal num_nodes\n",
    "        print(f\"Node types per position: {node_types.sum(dim=0)}\")\n",
    "\n",
    "        edge_exists = edge_probs.max(dim=1).values > 0.5\n",
    "        final_edge_index = edge_index[:, edge_exists]\n",
    "\n",
    "        # Debug edges\n",
    "        print(f\"\\nNumber of edges: {edge_exists.sum()}\")\n",
    "\n",
    "        edge_attr = torch.zeros((final_edge_index.shape[1], 4), device=device)\n",
    "        edge_attr[:, 0] = 1  # Set all to single bonds\n",
    "\n",
    "    molecule = Data(\n",
    "        x=node_types,\n",
    "        edge_index=final_edge_index,\n",
    "        edge_attr=edge_attr\n",
    "    )\n",
    "\n",
    "    # Debug final molecule\n",
    "    print(\"\\nFinal molecule structure:\")\n",
    "    print(f\"x shape: {molecule.x.shape}\")\n",
    "    print(f\"edge_index shape: {molecule.edge_index.shape}\")\n",
    "    print(f\"edge_attr shape: {molecule.edge_attr.shape}\")\n",
    "\n",
    "    return molecule\n",
    "\n",
    "# Generate and test\n",
    "generated_mol = generate_molecule(vae, num_nodes=9)\n",
    "print(\"\\nTesting RDKit conversion...\")\n",
    "rdkit_mol = mygenai.utils.to_rdkit(generated_mol)\n",
    "if rdkit_mol is not None:\n",
    "    mygenai.utils.visualise_molecule(generated_mol)\n",
    "else:\n",
    "    print(\"Failed to generate valid molecule\")\n",
    "    print(f\"Node features shape: {generated_mol.x.shape}\")\n",
    "    print(f\"Edge index shape: {generated_mol.edge_index.shape}\")\n",
    "    print(f\"Edge attributes shape: {generated_mol.edge_attr.shape}\")"
   ]
  },
  {
   "cell_type": "code",
   "execution_count": null,
   "metadata": {},
   "outputs": [
    {
     "ename": "IndexError",
     "evalue": "Dimension specified as 0 but tensor has no dimensions",
     "output_type": "error",
     "traceback": [
      "\u001b[31m---------------------------------------------------------------------------\u001b[39m",
      "\u001b[31mIndexError\u001b[39m                                Traceback (most recent call last)",
      "\u001b[36mCell\u001b[39m\u001b[36m \u001b[39m\u001b[32mIn[32]\u001b[39m\u001b[32m, line 1\u001b[39m\n\u001b[32m----> \u001b[39m\u001b[32m1\u001b[39m rdkit_mol = \u001b[43mmygenai\u001b[49m\u001b[43m.\u001b[49m\u001b[43mutils\u001b[49m\u001b[43m.\u001b[49m\u001b[43mto_rdkit\u001b[49m\u001b[43m(\u001b[49m\u001b[43mgenerated_mol\u001b[49m\u001b[43m)\u001b[49m\n\u001b[32m      2\u001b[39m \u001b[38;5;66;03m# mygenai.utils.visualise_molecule(dataset[0])\u001b[39;00m\n\u001b[32m      3\u001b[39m \u001b[38;5;66;03m# mygenai.utils.visualise_molecule(generated_mol)\u001b[39;00m\n",
      "\u001b[36mFile \u001b[39m\u001b[32m~/dev/generative-molecular-design/mygenai/utils.py:108\u001b[39m, in \u001b[36mto_rdkit\u001b[39m\u001b[34m(data, device)\u001b[39m\n\u001b[32m    106\u001b[39m node_list = []\n\u001b[32m    107\u001b[39m \u001b[38;5;28;01mfor\u001b[39;00m i \u001b[38;5;129;01min\u001b[39;00m \u001b[38;5;28mrange\u001b[39m(data.x.size()[\u001b[32m0\u001b[39m]):\n\u001b[32m--> \u001b[39m\u001b[32m108\u001b[39m     node_list.append(to_atom(\u001b[43mdata\u001b[49m\u001b[43m.\u001b[49m\u001b[43mx\u001b[49m\u001b[43m[\u001b[49m\u001b[43mi\u001b[49m\u001b[43m]\u001b[49m\u001b[43m[\u001b[49m\u001b[43m:\u001b[49m\u001b[32;43m5\u001b[39;49m\u001b[43m]\u001b[49m))\n\u001b[32m    110\u001b[39m \u001b[38;5;66;03m# create empty editable mol object\u001b[39;00m\n\u001b[32m    111\u001b[39m mol = Chem.RWMol()\n",
      "\u001b[31mIndexError\u001b[39m: Dimension specified as 0 but tensor has no dimensions"
     ]
    }
   ],
   "source": [
    "# rdkit_mol = mygenai.utils.to_rdkit(generated_mol)\n",
    "mygenai.utils.visualise_molecule(dataset[0])\n",
    "mygenai.utils.visualise_molecule(generated_mol)"
   ]
  },
  {
   "cell_type": "code",
   "execution_count": 38,
   "metadata": {},
   "outputs": [
    {
     "data": {
      "text/plain": [
       "tensor([6, 1, 1, 1, 1])"
      ]
     },
     "execution_count": 38,
     "metadata": {},
     "output_type": "execute_result"
    }
   ],
   "source": [
    "dataset[0].z"
   ]
  }
 ],
 "metadata": {
  "kernelspec": {
   "display_name": "Python 3",
   "language": "python",
   "name": "python3"
  },
  "language_info": {
   "codemirror_mode": {
    "name": "ipython",
    "version": 3
   },
   "file_extension": ".py",
   "mimetype": "text/x-python",
   "name": "python",
   "nbconvert_exporter": "python",
   "pygments_lexer": "ipython3",
   "version": "3.12.9"
  }
 },
 "nbformat": 4,
 "nbformat_minor": 2
}
