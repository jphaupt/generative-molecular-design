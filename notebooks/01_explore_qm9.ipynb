{
 "cells": [
  {
   "cell_type": "markdown",
   "metadata": {},
   "source": [
    "# Exploratory Data Analysis for the QM9 Dataset\n",
    "\n",
    "To get a feel for the dataset, it is helpful to start by visualising both the molecular graphs as well as the distribution of properties (like HOMO-LUMO). We can also visualise correlations between different properties to identify which targets might be most helpful, but since this is a toy project, we will skip this for now."
   ]
  },
  {
   "cell_type": "code",
   "execution_count": 3,
   "metadata": {},
   "outputs": [],
   "source": [
    "import torch_geometric as pyg\n",
    "from torch_geometric.datasets import QM9\n",
    "from torch_geometric.data import DataLoader\n",
    "import mygenai\n",
    "from rdkit import Chem\n",
    "from IPython.display import SVG\n",
    "\n",
    "# using the QM9 dataset, as it includes quantum properties and is of modest size\n",
    "dataset = QM9(root=\"../data/QM9\")"
   ]
  },
  {
   "cell_type": "code",
   "execution_count": 4,
   "metadata": {},
   "outputs": [
    {
     "data": {
      "image/svg+xml": [
       "<svg xmlns=\"http://www.w3.org/2000/svg\" xmlns:rdkit=\"http://www.rdkit.org/xml\" xmlns:xlink=\"http://www.w3.org/1999/xlink\" version=\"1.1\" baseProfile=\"full\" xml:space=\"preserve\" width=\"450px\" height=\"150px\" viewBox=\"0 0 450 150\">\n",
       "<!-- END OF HEADER -->\n",
       "<rect style=\"opacity:1.0;fill:#FFFFFF;stroke:none\" width=\"450.0\" height=\"150.0\" x=\"0.0\" y=\"0.0\"> </rect>\n",
       "<path class=\"bond-0 atom-0 atom-1\" d=\"M 210.7,142.5 L 138.7,142.5\" style=\"fill:none;fill-rule:evenodd;stroke:#000000;stroke-width:2.0px;stroke-linecap:butt;stroke-linejoin:miter;stroke-opacity:1\"/>\n",
       "<path class=\"bond-0 atom-0 atom-1\" d=\"M 204.5,131.7 L 144.9,131.7\" style=\"fill:none;fill-rule:evenodd;stroke:#000000;stroke-width:2.0px;stroke-linecap:butt;stroke-linejoin:miter;stroke-opacity:1\"/>\n",
       "<path class=\"bond-1 atom-1 atom-2\" d=\"M 138.7,142.5 L 102.7,80.1\" style=\"fill:none;fill-rule:evenodd;stroke:#000000;stroke-width:2.0px;stroke-linecap:butt;stroke-linejoin:miter;stroke-opacity:1\"/>\n",
       "<path class=\"bond-2 atom-2 atom-3\" d=\"M 102.7,80.1 L 138.7,17.7\" style=\"fill:none;fill-rule:evenodd;stroke:#000000;stroke-width:2.0px;stroke-linecap:butt;stroke-linejoin:miter;stroke-opacity:1\"/>\n",
       "<path class=\"bond-2 atom-2 atom-3\" d=\"M 115.1,80.1 L 144.9,28.5\" style=\"fill:none;fill-rule:evenodd;stroke:#000000;stroke-width:2.0px;stroke-linecap:butt;stroke-linejoin:miter;stroke-opacity:1\"/>\n",
       "<path class=\"bond-3 atom-3 atom-4\" d=\"M 138.7,17.7 L 169.7,17.7\" style=\"fill:none;fill-rule:evenodd;stroke:#000000;stroke-width:2.0px;stroke-linecap:butt;stroke-linejoin:miter;stroke-opacity:1\"/>\n",
       "<path class=\"bond-3 atom-3 atom-4\" d=\"M 169.7,17.7 L 200.6,17.7\" style=\"fill:none;fill-rule:evenodd;stroke:#0000FF;stroke-width:2.0px;stroke-linecap:butt;stroke-linejoin:miter;stroke-opacity:1\"/>\n",
       "<path class=\"bond-4 atom-4 atom-5\" d=\"M 218.0,30.3 L 232.4,55.2\" style=\"fill:none;fill-rule:evenodd;stroke:#0000FF;stroke-width:2.0px;stroke-linecap:butt;stroke-linejoin:miter;stroke-opacity:1\"/>\n",
       "<path class=\"bond-4 atom-4 atom-5\" d=\"M 232.4,55.2 L 246.8,80.1\" style=\"fill:none;fill-rule:evenodd;stroke:#000000;stroke-width:2.0px;stroke-linecap:butt;stroke-linejoin:miter;stroke-opacity:1\"/>\n",
       "<path class=\"bond-4 atom-4 atom-5\" d=\"M 208.6,35.7 L 221.5,57.9\" style=\"fill:none;fill-rule:evenodd;stroke:#0000FF;stroke-width:2.0px;stroke-linecap:butt;stroke-linejoin:miter;stroke-opacity:1\"/>\n",
       "<path class=\"bond-4 atom-4 atom-5\" d=\"M 221.5,57.9 L 234.3,80.1\" style=\"fill:none;fill-rule:evenodd;stroke:#000000;stroke-width:2.0px;stroke-linecap:butt;stroke-linejoin:miter;stroke-opacity:1\"/>\n",
       "<path class=\"bond-5 atom-5 atom-6\" d=\"M 246.8,80.1 L 276.9,80.1\" style=\"fill:none;fill-rule:evenodd;stroke:#000000;stroke-width:2.0px;stroke-linecap:butt;stroke-linejoin:miter;stroke-opacity:1\"/>\n",
       "<path class=\"bond-5 atom-5 atom-6\" d=\"M 276.9,80.1 L 307.1,80.1\" style=\"fill:none;fill-rule:evenodd;stroke:#FF0000;stroke-width:2.0px;stroke-linecap:butt;stroke-linejoin:miter;stroke-opacity:1\"/>\n",
       "<path class=\"bond-6 atom-5 atom-0\" d=\"M 246.8,80.1 L 210.7,142.5\" style=\"fill:none;fill-rule:evenodd;stroke:#000000;stroke-width:2.0px;stroke-linecap:butt;stroke-linejoin:miter;stroke-opacity:1\"/>\n",
       "<path d=\"M 207.1,142.5 L 210.7,142.5 L 212.5,139.4\" style=\"fill:none;stroke:#000000;stroke-width:2.0px;stroke-linecap:butt;stroke-linejoin:miter;stroke-opacity:1;\"/>\n",
       "<path d=\"M 142.3,142.5 L 138.7,142.5 L 136.9,139.4\" style=\"fill:none;stroke:#000000;stroke-width:2.0px;stroke-linecap:butt;stroke-linejoin:miter;stroke-opacity:1;\"/>\n",
       "<path d=\"M 104.5,83.2 L 102.7,80.1 L 104.5,77.0\" style=\"fill:none;stroke:#000000;stroke-width:2.0px;stroke-linecap:butt;stroke-linejoin:miter;stroke-opacity:1;\"/>\n",
       "<path d=\"M 136.9,20.8 L 138.7,17.7 L 140.2,17.7\" style=\"fill:none;stroke:#000000;stroke-width:2.0px;stroke-linecap:butt;stroke-linejoin:miter;stroke-opacity:1;\"/>\n",
       "<path class=\"atom-4\" d=\"M 206.2 7.5 L 212.9 18.3 Q 213.6 19.4, 214.7 21.3 Q 215.7 23.2, 215.8 23.4 L 215.8 7.5 L 218.5 7.5 L 218.5 27.9 L 215.7 27.9 L 208.5 16.1 Q 207.7 14.7, 206.8 13.1 Q 205.9 11.5, 205.7 11.0 L 205.7 27.9 L 203.0 27.9 L 203.0 7.5 L 206.2 7.5 \" fill=\"#0000FF\"/>\n",
       "<path class=\"atom-6\" d=\"M 309.5 80.2 Q 309.5 75.3, 311.9 72.5 Q 314.3 69.8, 318.8 69.8 Q 323.3 69.8, 325.8 72.5 Q 328.2 75.3, 328.2 80.2 Q 328.2 85.1, 325.7 87.9 Q 323.3 90.7, 318.8 90.7 Q 314.3 90.7, 311.9 87.9 Q 309.5 85.1, 309.5 80.2 M 318.8 88.4 Q 321.9 88.4, 323.6 86.4 Q 325.3 84.3, 325.3 80.2 Q 325.3 76.2, 323.6 74.1 Q 321.9 72.1, 318.8 72.1 Q 315.7 72.1, 314.0 74.1 Q 312.3 76.1, 312.3 80.2 Q 312.3 84.3, 314.0 86.4 Q 315.7 88.4, 318.8 88.4 \" fill=\"#FF0000\"/>\n",
       "<path class=\"atom-6\" d=\"M 331.4 70.0 L 334.1 70.0 L 334.1 78.7 L 344.6 78.7 L 344.6 70.0 L 347.3 70.0 L 347.3 90.4 L 344.6 90.4 L 344.6 81.0 L 334.1 81.0 L 334.1 90.4 L 331.4 90.4 L 331.4 70.0 \" fill=\"#FF0000\"/>\n",
       "</svg>"
      ],
      "text/plain": [
       "<IPython.core.display.SVG object>"
      ]
     },
     "execution_count": 4,
     "metadata": {},
     "output_type": "execute_result"
    }
   ],
   "source": [
    "m = Chem.MolFromSmiles('c1cccnc1O')\n",
    "SVG(mygenai.utils.moltosvg(m))"
   ]
  },
  {
   "cell_type": "code",
   "execution_count": null,
   "metadata": {},
   "outputs": [],
   "source": []
  }
 ],
 "metadata": {
  "kernelspec": {
   "display_name": "Python 3",
   "language": "python",
   "name": "python3"
  },
  "language_info": {
   "codemirror_mode": {
    "name": "ipython",
    "version": 3
   },
   "file_extension": ".py",
   "mimetype": "text/x-python",
   "name": "python",
   "nbconvert_exporter": "python",
   "pygments_lexer": "ipython3",
   "version": "3.12.9"
  }
 },
 "nbformat": 4,
 "nbformat_minor": 2
}
