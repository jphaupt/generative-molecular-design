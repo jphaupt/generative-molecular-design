{
 "cells": [
  {
   "cell_type": "markdown",
   "metadata": {},
   "source": [
    "# A Simple Variational Autoencoder\n",
    "\n",
    "Here we explore using a simple variational autoencoder trained on the QM9 dataset to generate new molecules.\n",
    "\n",
    "The goal of this notebook is to provide a proof of concept that you can use a VAE to generate new molecules. Some physical restrictions will also be enforced. The model will also be saved for easy reloading in later notebooks."
   ]
  },
  {
   "cell_type": "code",
   "execution_count": null,
   "metadata": {},
   "outputs": [],
   "source": [
    "import torch\n",
    "import torch.nn as nn\n",
    "from torch_geometric.utils import to_dense_batch\n",
    "import torch_geometric as pyg\n",
    "import torch_geometric.nn as pyg_nn\n",
    "from torch_geometric.datasets import QM9\n",
    "from torch_geometric.loader import DataLoader\n",
    "import mygenai\n",
    "\n",
    "dataset = QM9(root=\"../data/QM9\")"
   ]
  },
  {
   "cell_type": "code",
   "execution_count": 10,
   "metadata": {},
   "outputs": [
    {
     "name": "stdout",
     "output_type": "stream",
     "text": [
      "True\n",
      "1\n",
      "NVIDIA GeForce RTX 3050 Ti Laptop GPU\n"
     ]
    }
   ],
   "source": [
    "# check if CUDA is available\n",
    "print(torch.cuda.is_available())\n",
    "print(torch.cuda.device_count())\n",
    "print(torch.cuda.get_device_name(0))"
   ]
  },
  {
   "cell_type": "code",
   "execution_count": null,
   "metadata": {},
   "outputs": [],
   "source": [
    "# TODO the decoder currently only has node features (atoms),\n",
    "#   but we also need edge features (bonds) to reconstruct the graph\n",
    "class GraphVAE(nn.Module):\n",
    "    def __init__(self, in_channels, hidden_dim, latent_dim):\n",
    "        super(GraphVAE, self).__init__()\n",
    "\n",
    "        # Graph Encoder\n",
    "        self.encoder = pyg_nn.GCNConv(in_channels, hidden_dim)\n",
    "        self.fc_mu = nn.Linear(hidden_dim, latent_dim)  # Mean\n",
    "        self.fc_logvar = nn.Linear(hidden_dim, latent_dim)  # Log variance\n",
    "\n",
    "        # Graph Decoder\n",
    "        self.decoder = nn.Sequential(\n",
    "            nn.Linear(latent_dim, hidden_dim),\n",
    "            nn.ReLU(),\n",
    "            nn.Linear(hidden_dim, in_channels)\n",
    "        )\n",
    "\n",
    "    def forward(self, x, edge_index):\n",
    "        # Encode\n",
    "        h = self.encoder(x, edge_index)\n",
    "        mu, logvar = self.fc_mu(h), self.fc_logvar(h)\n",
    "        z = mu + torch.exp(0.5 * logvar) * torch.randn_like(mu)\n",
    "\n",
    "        # Decode\n",
    "        recon_x = self.decoder(z)\n",
    "        return recon_x, mu, logvar\n"
   ]
  },
  {
   "cell_type": "code",
   "execution_count": null,
   "metadata": {},
   "outputs": [
    {
     "name": "stdout",
     "output_type": "stream",
     "text": [
      "Using device: cuda\n",
      "Epoch 1, Loss: 12982132.532470703\n",
      "Epoch 2, Loss: 6653357.563659668\n",
      "Epoch 3, Loss: 5738879.426879883\n",
      "Epoch 4, Loss: 5044610.07434082\n",
      "Epoch 5, Loss: 4919992.088256836\n",
      "Epoch 6, Loss: 4884896.159057617\n",
      "Epoch 7, Loss: 4875195.200317383\n",
      "Epoch 8, Loss: 4868426.782836914\n",
      "Epoch 9, Loss: 4862542.235900879\n",
      "Epoch 10, Loss: 4864959.352783203\n",
      "Epoch 11, Loss: 4861159.000854492\n",
      "Epoch 12, Loss: 4856974.647644043\n",
      "Epoch 13, Loss: 4855976.251159668\n",
      "Epoch 14, Loss: 4855054.975708008\n",
      "Epoch 15, Loss: 4851494.086303711\n",
      "Epoch 16, Loss: 4856495.376403809\n",
      "Epoch 17, Loss: 4849909.075866699\n",
      "Epoch 18, Loss: 4855618.200927734\n",
      "Epoch 19, Loss: 4847263.398742676\n",
      "Epoch 20, Loss: 4856062.029968262\n"
     ]
    }
   ],
   "source": [
    "loader = DataLoader(dataset, batch_size=128, shuffle=True)\n",
    "device = torch.device('cuda' if torch.cuda.is_available() else 'cpu')\n",
    "print(f\"Using device: {device}\")\n",
    "\n",
    "# Move model to GPU\n",
    "vae = GraphVAE(in_channels=dataset.num_features, hidden_dim=64, latent_dim=32).to(device)\n",
    "\n",
    "optimizer = torch.optim.Adam(vae.parameters(), lr=1e-3)\n",
    "\n",
    "def loss_function(recon_x, x, mu, logvar):\n",
    "    mse_loss = torch.nn.functional.mse_loss(recon_x, x, reduction=\"sum\")\n",
    "    kl_divergence = -0.5 * torch.sum(1 + logvar - mu.pow(2) - logvar.exp())\n",
    "    return mse_loss + kl_divergence\n",
    "\n",
    "# TODO: training, test and validation splits\n",
    "\n",
    "# Training Loop\n",
    "for epoch in range(20):\n",
    "    loss_total = 0\n",
    "    for batch in loader:\n",
    "        # Move batch data to GPU\n",
    "        batch = batch.to(device)\n",
    "\n",
    "        optimizer.zero_grad()\n",
    "        recon_x, mu, logvar = vae(batch.x, batch.edge_index)\n",
    "        loss = loss_function(recon_x, batch.x, mu, logvar)\n",
    "        loss.backward()\n",
    "        optimizer.step()\n",
    "        loss_total += loss.item()\n",
    "    print(f\"Epoch {epoch+1}, Loss: {loss_total}\")"
   ]
  },
  {
   "cell_type": "code",
   "execution_count": null,
   "metadata": {},
   "outputs": [
    {
     "name": "stdout",
     "output_type": "stream",
     "text": [
      "Generated molecule features: torch.Size([1, 11])\n",
      "tensor([[ 9.7741e-01,  8.8419e-03,  8.6682e-03, -8.1913e-03, -2.4448e-04,\n",
      "          1.1425e+00,  6.6321e-03, -3.7067e-04, -1.6801e-04, -3.3279e-05,\n",
      "         -3.5893e-02]], device='cuda:0')\n"
     ]
    }
   ],
   "source": [
    "# Generate a random latent vector\n",
    "latent_sample = torch.randn(1, 32).to(device)\n",
    "\n",
    "# Decode the latent vector to get molecule features\n",
    "with torch.no_grad():\n",
    "    generated_features = vae.decoder(latent_sample)\n",
    "\n",
    "# Print the generated features\n",
    "print(\"Generated molecule features:\", generated_features.shape)\n",
    "print(generated_features)\n",
    "\n",
    "# Note: This generates the feature vector for a molecule.\n",
    "# To convert this into a proper molecular structure, you would need additional\n",
    "# post-processing steps to convert the features back into a valid molecular graph"
   ]
  }
 ],
 "metadata": {
  "kernelspec": {
   "display_name": "Python 3",
   "language": "python",
   "name": "python3"
  },
  "language_info": {
   "codemirror_mode": {
    "name": "ipython",
    "version": 3
   },
   "file_extension": ".py",
   "mimetype": "text/x-python",
   "name": "python",
   "nbconvert_exporter": "python",
   "pygments_lexer": "ipython3",
   "version": "3.12.9"
  }
 },
 "nbformat": 4,
 "nbformat_minor": 2
}
