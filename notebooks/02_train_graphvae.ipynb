{
 "cells": [
  {
   "cell_type": "markdown",
   "metadata": {},
   "source": [
    "# A Simple Variational Autoencoder\n",
    "\n",
    "Here we explore using a simple variational autoencoder trained on the QM9 dataset to generate new molecules.\n",
    "\n",
    "The goal of this notebook is to provide a proof of concept that you can use a VAE to generate new molecules. Some physical restrictions will also be enforced. The model will also be saved for easy reloading in later notebooks."
   ]
  },
  {
   "cell_type": "markdown",
   "metadata": {},
   "source": [
    "TODO: \n",
    "- [ ] add brief theory summary\n",
    "- [ ] move what makes sense to mygenai src\n",
    "- [ ] create nn configuration section at top for better maintainability\n",
    "- [ ] use proper logging instead of print statements\n",
    "- [ ] make the model take edge_index optionally and construct a full graph if not given\n",
    "- [ ] have the model predict the number of nodes (atoms)"
   ]
  },
  {
   "cell_type": "code",
   "execution_count": 2,
   "metadata": {},
   "outputs": [],
   "source": [
    "import torch\n",
    "import torch.nn as nn\n",
    "from torch_geometric.utils import to_dense_batch\n",
    "import torch_geometric as pyg\n",
    "import torch_geometric.nn as pyg_nn\n",
    "from torch_geometric.datasets import QM9\n",
    "from torch_geometric.loader import DataLoader\n",
    "import mygenai\n",
    "from sklearn.model_selection import train_test_split\n",
    "import numpy as np\n",
    "\n",
    "dataset = QM9(root=\"../data/QM9\")"
   ]
  },
  {
   "cell_type": "code",
   "execution_count": 3,
   "metadata": {},
   "outputs": [
    {
     "name": "stdout",
     "output_type": "stream",
     "text": [
      "True\n",
      "1\n",
      "NVIDIA GeForce RTX 3050 Ti Laptop GPU\n"
     ]
    }
   ],
   "source": [
    "# check if CUDA is available\n",
    "print(torch.cuda.is_available())\n",
    "print(torch.cuda.device_count())\n",
    "print(torch.cuda.get_device_name(0))"
   ]
  },
  {
   "cell_type": "code",
   "execution_count": 4,
   "metadata": {},
   "outputs": [],
   "source": [
    "class GraphVAE(nn.Module):\n",
    "    def __init__(self, in_channels, hidden_dim, latent_dim):\n",
    "        super(GraphVAE, self).__init__()\n",
    "        self.in_channels = in_channels  # Store input feature dimension\n",
    "\n",
    "        self.encoder = pyg_nn.GCNConv(in_channels, hidden_dim)\n",
    "        self.fc_mu = nn.Linear(hidden_dim, latent_dim)  # Mean\n",
    "        self.fc_logvar = nn.Linear(hidden_dim, latent_dim)  # Log variance\n",
    "\n",
    "        self.node_decoder = nn.Sequential(\n",
    "            nn.Linear(latent_dim, hidden_dim),\n",
    "            nn.ReLU(),\n",
    "            nn.Linear(hidden_dim, in_channels)\n",
    "        )\n",
    "\n",
    "        # Edge Decoder (for adjacency matrix reconstruction, must handle concatenated node embedding)\n",
    "        self.edge_decoder = nn.Sequential(\n",
    "            nn.Linear(2 * latent_dim, hidden_dim),\n",
    "            nn.ReLU(),\n",
    "            nn.Linear(hidden_dim, dataset.num_edge_features)\n",
    "        )\n",
    "        # self.edge_decoder = nn.Linear(latent_dim, dataset.num_edge_features)\n",
    "\n",
    "    # def generate_complete_graph(self, num_nodes):\n",
    "    #     # Generate a complete graph with the given number of nodes\n",
    "    #     edge_index = torch.combinations(torch.arange(num_nodes), r=2).t().contiguous()\n",
    "    #     edge_index = torch.cat([edge_index, edge_index.flip(0)], dim=-1) # add reverse edges for undirected graph\n",
    "    #     return edge_index.to(self.device) # TODO this doesn't work, no device set\n",
    "\n",
    "    def decode(self, z, edge_index=None):\n",
    "        # Decode node features\n",
    "        node_pred = self.node_decoder(z)\n",
    "\n",
    "        # QM9 edges represent interactions between pairs of atoms, so need two nodes per edge\n",
    "        edge_features = torch.cat([z[edge_index[0]], z[edge_index[1]]], dim=-1)\n",
    "        edge_pred = self.edge_decoder(edge_features)\n",
    "        return node_pred, edge_pred\n",
    "\n",
    "    def forward(self, x, edge_index):\n",
    "        # Encode\n",
    "        h = self.encoder(x, edge_index)\n",
    "        mu, logvar = self.fc_mu(h), self.fc_logvar(h)\n",
    "        # latent space sampling with reparametrisation trick\n",
    "        z = mu + torch.exp(0.5 * logvar) * torch.randn_like(mu)\n",
    "\n",
    "        node_pred, edge_pred = self.decode(z, edge_index)\n",
    "\n",
    "        return node_pred, edge_pred, mu, logvar"
   ]
  },
  {
   "cell_type": "code",
   "execution_count": 5,
   "metadata": {},
   "outputs": [],
   "source": [
    "def print_shapes(batch, node_pred, edge_pred, mu, logvar):\n",
    "    \"\"\"Print the shapes of the batch and predictions for debugging.\"\"\"\n",
    "    print(\"\\nShape Information:\")\n",
    "    print(f\"Batch features (batch.x): {batch.x.shape}\")\n",
    "    print(f\"Batch edge index (batch.edge_index): {batch.edge_index.shape}\")\n",
    "    print(f\"Batch edge attributes (batch.edge_attr): {batch.edge_attr.shape if hasattr(batch, 'edge_attr') else 'None'}\")\n",
    "    print(f\"Node predictions: {node_pred.shape}\")\n",
    "    print(f\"Edge predictions: {edge_pred.shape}\")\n",
    "    print(f\"Mu: {mu.shape}\")\n",
    "    print(f\"Logvar: {logvar.shape}\")"
   ]
  },
  {
   "cell_type": "code",
   "execution_count": 6,
   "metadata": {},
   "outputs": [
    {
     "name": "stdout",
     "output_type": "stream",
     "text": [
      "Using device: cuda\n"
     ]
    }
   ],
   "source": [
    "\n",
    "device = torch.device('cuda' if torch.cuda.is_available() else 'cpu')\n",
    "print(f\"Using device: {device}\")\n",
    "\n",
    "# Move model to GPU\n",
    "vae = GraphVAE(in_channels=dataset.num_features, hidden_dim=64, latent_dim=32).to(device)\n"
   ]
  },
  {
   "cell_type": "code",
   "execution_count": 7,
   "metadata": {},
   "outputs": [
    {
     "name": "stdout",
     "output_type": "stream",
     "text": [
      "Loaded existing model from best_basic_model.pt\n"
     ]
    }
   ],
   "source": [
    "optimizer = torch.optim.Adam(vae.parameters(), lr=1e-3)\n",
    "\n",
    "def loss_function(node_pred, edge_pred, node_true, edge_true, mu, logvar):\n",
    "    node_loss = torch.nn.functional.cross_entropy(node_pred, node_true, reduction='sum')\n",
    "    edge_loss = torch.nn.functional.binary_cross_entropy_with_logits(\n",
    "        edge_pred, edge_true, reduction='sum'\n",
    "    )\n",
    "    kl_loss = -0.5 * torch.sum(1 + logvar - mu.pow(2) - logvar.exp())\n",
    "    total_loss = node_loss + edge_loss + kl_loss\n",
    "\n",
    "    return total_loss, {\n",
    "        'node_loss': node_loss.item(),\n",
    "        'edge_loss': edge_loss.item(),\n",
    "        'kl_loss': kl_loss.item()\n",
    "    }\n",
    "\n",
    "# Data splitting (60/20/20)\n",
    "train_val_idx, test_idx = train_test_split(\n",
    "    np.arange(len(dataset)),\n",
    "    test_size=0.2,\n",
    "    random_state=42\n",
    ")\n",
    "train_idx, val_idx = train_test_split(\n",
    "    train_val_idx,\n",
    "    test_size=0.25,\n",
    "    random_state=42\n",
    ")\n",
    "\n",
    "train_loader = DataLoader(dataset[train_idx], batch_size=128, shuffle=True)\n",
    "val_loader = DataLoader(dataset[val_idx], batch_size=128, shuffle=False)\n",
    "test_loader = DataLoader(dataset[test_idx], batch_size=128, shuffle=False)\n",
    "\n",
    "# Training loop with validation\n",
    "try:\n",
    "    vae.load_state_dict(torch.load('best_basic_model.pt'))\n",
    "    print(\"Loaded existing model from best_basic_model.pt\")\n",
    "except FileNotFoundError:\n",
    "    print(\"No existing model found, starting training...\")\n",
    "    best_val_loss = float('inf')\n",
    "    patience = 5\n",
    "    patience_counter = 0\n",
    "    n_epochs = 50\n",
    "\n",
    "    for epoch in range(n_epochs):\n",
    "        # Training phase\n",
    "        vae.train()\n",
    "        train_metrics = {'total_loss': 0, 'node_loss': 0, 'edge_loss': 0, 'kl_loss': 0}\n",
    "\n",
    "        for batch in train_loader:\n",
    "            batch = batch.to(device)\n",
    "            optimizer.zero_grad()\n",
    "\n",
    "            # Forward pass\n",
    "            node_pred, edge_pred, mu, logvar = vae(batch.x, batch.edge_index)\n",
    "            # print_shapes(batch, node_pred, edge_pred, mu, logvar)\n",
    "\n",
    "            # Calculate loss\n",
    "            loss, metrics = loss_function(\n",
    "                node_pred, edge_pred,\n",
    "                batch.x, batch.edge_attr,\n",
    "                mu, logvar\n",
    "            )\n",
    "\n",
    "            # Backward pass\n",
    "            loss.backward()\n",
    "            optimizer.step()\n",
    "\n",
    "            # Update metrics\n",
    "            train_metrics['total_loss'] += loss.item()\n",
    "            for k, v in metrics.items():\n",
    "                train_metrics[k] += v\n",
    "\n",
    "        # Validation phase\n",
    "        vae.eval()\n",
    "        val_metrics = {'total_loss': 0, 'node_loss': 0, 'edge_loss': 0, 'kl_loss': 0}\n",
    "\n",
    "        with torch.no_grad():\n",
    "            for batch in val_loader:\n",
    "                batch = batch.to(device)\n",
    "                node_pred, edge_pred, mu, logvar = vae(batch.x, batch.edge_index)\n",
    "                loss, metrics = loss_function(\n",
    "                    node_pred, edge_pred,\n",
    "                    batch.x, batch.edge_attr,\n",
    "                    mu, logvar\n",
    "                )\n",
    "\n",
    "                val_metrics['total_loss'] += loss.item()\n",
    "                for k, v in metrics.items():\n",
    "                    val_metrics[k] += v\n",
    "\n",
    "        print(f\"\\nEpoch {epoch+1}/{n_epochs}\")\n",
    "        print(\"Training metrics:\")\n",
    "        for k, v in train_metrics.items():\n",
    "            print(f\"{k}: {v/len(train_loader):.4f}\")\n",
    "        print(\"\\nValidation metrics:\")\n",
    "        for k, v in val_metrics.items():\n",
    "            print(f\"{k}: {v/len(val_loader):.4f}\")\n",
    "\n",
    "        # Early stopping\n",
    "        val_loss = val_metrics['total_loss'] / len(val_loader)\n",
    "        if val_loss < best_val_loss:\n",
    "            best_val_loss = val_loss\n",
    "            patience_counter = 0\n",
    "            torch.save(vae.state_dict(), 'best_basic_model.pt')\n",
    "        else:\n",
    "            patience_counter += 1\n",
    "            if patience_counter >= patience:\n",
    "                print(\"\\nEarly stopping triggered!\")\n",
    "                break"
   ]
  },
  {
   "cell_type": "code",
   "execution_count": 13,
   "metadata": {},
   "outputs": [
    {
     "name": "stdout",
     "output_type": "stream",
     "text": [
      "\n",
      "Test metrics:\n",
      "total_loss: 13272.6769\n",
      "node_loss: 9239.2612\n",
      "edge_loss: 1599.3260\n",
      "kl_loss: 2434.0897\n"
     ]
    }
   ],
   "source": [
    "# evaluate model on test set\n",
    "vae.eval()\n",
    "test_metrics = {'total_loss': 0, 'node_loss': 0, 'edge_loss': 0, 'kl_loss': 0}\n",
    "\n",
    "with torch.no_grad():\n",
    "    for batch in test_loader:\n",
    "        batch = batch.to(device)\n",
    "        node_pred, edge_pred, mu, logvar = vae(batch.x, batch.edge_index)\n",
    "        loss, metrics = loss_function(\n",
    "            node_pred, edge_pred,\n",
    "            batch.x, batch.edge_attr,\n",
    "            mu, logvar\n",
    "        )\n",
    "\n",
    "        test_metrics['total_loss'] += loss.item()\n",
    "        for k, v in metrics.items():\n",
    "            test_metrics[k] += v\n",
    "\n",
    "print(\"\\nTest metrics:\")\n",
    "for k, v in test_metrics.items():\n",
    "    print(f\"{k}: {v/len(test_loader):.4f}\")"
   ]
  },
  {
   "cell_type": "code",
   "execution_count": null,
   "metadata": {},
   "outputs": [
    {
     "name": "stdout",
     "output_type": "stream",
     "text": [
      "Latent sample shape: torch.Size([1, 32])\n",
      "Expanded z shape: torch.Size([9, 32])\n",
      "Edge index shape: torch.Size([2, 72])\n",
      "Node features shape: torch.Size([9, 11])\n",
      "Edge features shape: torch.Size([72, 4])\n",
      "Edge probs shape: torch.Size([72, 4])\n",
      "Edge mask shape: torch.Size([72, 4])\n"
     ]
    },
    {
     "ename": "IndexError",
     "evalue": "too many indices for tensor of dimension 2",
     "output_type": "error",
     "traceback": [
      "\u001b[31m---------------------------------------------------------------------------\u001b[39m",
      "\u001b[31mIndexError\u001b[39m                                Traceback (most recent call last)",
      "\u001b[36mCell\u001b[39m\u001b[36m \u001b[39m\u001b[32mIn[20]\u001b[39m\u001b[32m, line 46\u001b[39m\n\u001b[32m     43\u001b[39m     \u001b[38;5;28;01mreturn\u001b[39;00m molecule\n\u001b[32m     45\u001b[39m \u001b[38;5;66;03m# Generate and inspect molecule\u001b[39;00m\n\u001b[32m---> \u001b[39m\u001b[32m46\u001b[39m generated_mol = \u001b[43mgenerate_molecule\u001b[49m\u001b[43m(\u001b[49m\u001b[43mvae\u001b[49m\u001b[43m,\u001b[49m\u001b[43m \u001b[49m\u001b[43mnum_nodes\u001b[49m\u001b[43m=\u001b[49m\u001b[32;43m9\u001b[39;49m\u001b[43m)\u001b[49m\n\u001b[32m     47\u001b[39m \u001b[38;5;28mprint\u001b[39m(\u001b[33mf\u001b[39m\u001b[33m\"\u001b[39m\u001b[33mGenerated molecule with \u001b[39m\u001b[38;5;132;01m{\u001b[39;00mgenerated_mol.num_nodes\u001b[38;5;132;01m}\u001b[39;00m\u001b[33m nodes and \u001b[39m\u001b[38;5;132;01m{\u001b[39;00mgenerated_mol.num_edges\u001b[38;5;132;01m}\u001b[39;00m\u001b[33m edges\u001b[39m\u001b[33m\"\u001b[39m)\n\u001b[32m     48\u001b[39m \u001b[38;5;28mprint\u001b[39m(\u001b[33mf\u001b[39m\u001b[33m\"\u001b[39m\u001b[33mNode feature shape: \u001b[39m\u001b[38;5;132;01m{\u001b[39;00mgenerated_mol.x.shape\u001b[38;5;132;01m}\u001b[39;00m\u001b[33m\"\u001b[39m)\n",
      "\u001b[36mCell\u001b[39m\u001b[36m \u001b[39m\u001b[32mIn[20]\u001b[39m\u001b[32m, line 35\u001b[39m, in \u001b[36mgenerate_molecule\u001b[39m\u001b[34m(vae, num_nodes, device)\u001b[39m\n\u001b[32m     32\u001b[39m     \u001b[38;5;28mprint\u001b[39m(\u001b[33mf\u001b[39m\u001b[33m\"\u001b[39m\u001b[33mEdge mask shape: \u001b[39m\u001b[38;5;132;01m{\u001b[39;00medge_mask.shape\u001b[38;5;132;01m}\u001b[39;00m\u001b[33m\"\u001b[39m)\n\u001b[32m     34\u001b[39m     \u001b[38;5;66;03m# Select edges based on mask\u001b[39;00m\n\u001b[32m---> \u001b[39m\u001b[32m35\u001b[39m     final_edge_index = \u001b[43medge_index\u001b[49m\u001b[43m[\u001b[49m\u001b[43m:\u001b[49m\u001b[43m,\u001b[49m\u001b[43m \u001b[49m\u001b[43medge_mask\u001b[49m\u001b[43m]\u001b[49m\n\u001b[32m     37\u001b[39m \u001b[38;5;66;03m# Create PyG Data object\u001b[39;00m\n\u001b[32m     38\u001b[39m molecule = Data(\n\u001b[32m     39\u001b[39m     x=node_types,\n\u001b[32m     40\u001b[39m     edge_index=final_edge_index\n\u001b[32m     41\u001b[39m )\n",
      "\u001b[31mIndexError\u001b[39m: too many indices for tensor of dimension 2"
     ]
    }
   ],
   "source": [
    "from torch_geometric.data import Data\n",
    "\n",
    "def generate_molecule(vae, num_nodes=9, device='cuda'):\n",
    "    \"\"\"Generate a random molecule with fixed number of nodes.\"\"\"\n",
    "    # Sample from latent space\n",
    "    latent_sample = torch.randn(1, 32).to(device)\n",
    "    print(f\"Latent sample shape: {latent_sample.shape}\")\n",
    "\n",
    "    # Expand latent vector for each node\n",
    "    z = latent_sample.repeat(num_nodes, 1)\n",
    "    print(f\"Expanded z shape: {z.shape}\")\n",
    "\n",
    "    # Create complete graph\n",
    "    edge_index = torch.combinations(torch.arange(num_nodes), r=2).t().contiguous()\n",
    "    edge_index = torch.cat([edge_index, edge_index.flip(0)], dim=-1).to(device)\n",
    "    print(f\"Edge index shape: {edge_index.shape}\")\n",
    "\n",
    "    # Generate features\n",
    "    with torch.no_grad():\n",
    "        node_features, edge_features = vae.decode(z, edge_index)\n",
    "        print(f\"Node features shape: {node_features.shape}\")\n",
    "        print(f\"Edge features shape: {edge_features.shape}\")\n",
    "\n",
    "        # Convert to probabilities\n",
    "        node_probs = torch.softmax(node_features, dim=-1)\n",
    "        edge_probs = torch.sigmoid(edge_features)\n",
    "        print(f\"Edge probs shape: {edge_probs.shape}\")\n",
    "\n",
    "        # Get discrete structure\n",
    "        node_types = torch.argmax(node_probs, dim=-1)\n",
    "\n",
    "        # Take maximum probability across edge features\n",
    "        # This assumes the edge with highest probability determines existence\n",
    "        edge_exists = edge_probs.max(dim=1).values > 0.5\n",
    "        print(f\"Edge existence mask shape: {edge_exists.shape}\")\n",
    "\n",
    "        # Select edges based on mask\n",
    "        final_edge_index = edge_index[:, edge_exists]\n",
    "\n",
    "    # Create PyG Data object\n",
    "    molecule = Data(\n",
    "        x=node_types,\n",
    "        edge_index=final_edge_index,\n",
    "        edge_attr=edge_features[edge_exists]  # Include edge features for existing edges\n",
    "    )\n",
    "\n",
    "    return molecule\n",
    "\n",
    "# Generate and inspect molecule\n",
    "generated_mol = generate_molecule(vae, num_nodes=9)\n",
    "print(f\"Generated molecule with {generated_mol.num_nodes} nodes and {generated_mol.num_edges} edges\")\n",
    "print(f\"Node feature shape: {generated_mol.x.shape}\")\n",
    "print(f\"Edge index shape: {generated_mol.edge_index.shape}\")"
   ]
  },
  {
   "cell_type": "code",
   "execution_count": null,
   "metadata": {},
   "outputs": [
    {
     "name": "stdout",
     "output_type": "stream",
     "text": [
      "tensor([[  6.7315,  -3.1818,  -2.9390,  -1.9929,  -8.6633,   6.7304, -18.2955,\n",
      "         -18.0176, -18.5171, -17.8618,  -1.4803]], device='cuda:0')\n"
     ]
    }
   ],
   "source": []
  }
 ],
 "metadata": {
  "kernelspec": {
   "display_name": "Python 3",
   "language": "python",
   "name": "python3"
  },
  "language_info": {
   "codemirror_mode": {
    "name": "ipython",
    "version": 3
   },
   "file_extension": ".py",
   "mimetype": "text/x-python",
   "name": "python",
   "nbconvert_exporter": "python",
   "pygments_lexer": "ipython3",
   "version": "3.12.9"
  }
 },
 "nbformat": 4,
 "nbformat_minor": 2
}
