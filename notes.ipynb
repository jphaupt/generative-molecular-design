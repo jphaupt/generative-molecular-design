{
 "cells": [
  {
   "cell_type": "markdown",
   "metadata": {},
   "source": [
    "# Playing with Generative AI\n",
    "\n",
    "This is a toy project using generative AI to study drug discovery. "
   ]
  },
  {
   "cell_type": "markdown",
   "metadata": {},
   "source": [
    "## General Notes\n",
    "\n",
    "Idea: Train a generative model (such as a variational autoencoder or diffusion model) to design (new) bioactive molecules,\n",
    "in particular kinase inhibitors[^1] for cancer therapy. \n",
    "\n",
    "I plan to use knowledge from my studies in quantum chemistry and computer science, using features like the HOMO-LUMO gap,\n",
    "partial charges, and electronic excitations into the model, as well as physical constraints to ensure realistic molecules\n",
    "\n",
    "[^1]: TODO: I will want to write more general notes one kinase inhibitors later.\n",
    "\n",
    "### To start \n",
    "\n",
    "0. Set up directory structure, with src/ tests/ notebooks/ experiments/\n",
    "1. Explore QM9 dataset, make sure you can visualise molecules\n",
    "   1. Make sure to visualize both molecular graphs and properties (like HOMO-LUMO gap, molecular weight, etc.) to get a sense of the data distribution\n",
    "   2. It might also help to visualize the correlation between different properties to identify which targets might be more informative\n",
    "2. Train a simple GraphVAE on the QM9 dataset\n",
    "   1. Perhaps only use a subset of the targets -- not sure which but targeting the atomisation energy at 0 K as well as room temperature probably doesn't make sense\n",
    "      1. HOMO-LUMO gap, dipole moment, molecular weight\n",
    "      2. Verifying the VAE’s reconstruction quality on both molecular graph and properties to ensure the model learns meaningful representations\n",
    "3. Verify that you can generate random molecules by sampling the latent space randomly\n",
    "   1. Ensure that the molecules look realistic and consistent with the distribution in QM9\n",
    "4. Use a simple reinforcement learning algorithm to search for the molecule that has the smallest HOMO-LUMO gap\n",
    "   1. Note: this will require calculating properties e.g. with PySCF for every new molecule to feed back into the model\n",
    "   2. A smaller HOMO-LUMO gap indicates high reactivity\n",
    "   3. This is not a realistic target in drug discovery, but it is a reasonable surrogate for a simple \"toy problem\" such as this\n",
    "5. Once that is done...\n",
    "\n",
    "### Next steps\n",
    "\n",
    "6. Modify the model to enforce realistic physics, i.e. that the models we generate are actually stable\n",
    "   1. I'm not really sure what this will mean in practice, but I do not want to generate molecules that cannot exist anyway\n",
    "   2. Introduce constraints during the molecule generation process (e.g., valid bond lengths, bond angles)\n",
    "   3. Use molecular force fields\n",
    "   4. Experiment with deep GNNs instead of VAEs (primarily using VAEs since I already have experience, albeit for a different type of problem)\n",
    "7. Augment dataset to include biologically-relevant properties, e.g. from ZINC\n",
    "   1. This will allow you to target e.g. binding free energy, binding affinities, low toxicity, logP ...\n",
    "8. Use heuristics and methods from drug discovery (such as Lipinski's rule of five) to verify generated molecules\n",
    "   1. QED (Quantitative Estimate of Drug-likeness) or ADMET (absorption, distribution, metabolism, excretion, toxicity)"
   ]
  },
  {
   "cell_type": "markdown",
   "metadata": {},
   "source": [
    "### Project Structure\n",
    "Might look something like this \n",
    "\n",
    "```\n",
    "generative-molecular-design/\n",
    "├── data/\n",
    "│   ├── raw/                  # Raw datasets (e.g., QM9, ZINC, etc.)\n",
    "│   ├── processed/            # Preprocessed and cleaned data (e.g., graphs, properties, etc.)\n",
    "│   └── augmented/            # Augmented data (e.g., biologically-relevant data from ZINC)\n",
    "├── notebooks/                # Jupyter notebooks for exploration and analysis\n",
    "|   ├── 00_plan.ipynb         # This Jupyter notebook\n",
    "│   ├── 01_explore_qm9.ipynb  # Explore QM9 dataset and visualize molecules\n",
    "│   ├── 02_train_graphvae.ipynb  # Train GraphVAE on QM9 dataset\n",
    "│   └── 03_rl_homo_gap_search.ipynb  # Reinforcement learning for searching HOMO-LUMO gap\n",
    "├── src/                      # Main source code for the project\n",
    "│   ├── __init__.py           # Make it a Python package\n",
    "│   ├── data_preprocessing.py # Preprocessing functions for datasets\n",
    "│   ├── graphvae.py           # GraphVAE model definition\n",
    "│   ├── reinforcement_learning.py # Reinforcement learning module\n",
    "│   ├── pyscf_utils.py        # Interface with PySCF for quantum chemistry calculations\n",
    "│   ├── molecule_generation.py # Functions for generating and evaluating molecules\n",
    "│   └── utils.py              # General utility functions (e.g., visualization, data saving)\n",
    "├── tests/                    # Unit tests for the code\n",
    "│   ├── test_graphvae.py       # Tests for GraphVAE functionality\n",
    "│   ├── test_rl.py            # Tests for reinforcement learning algorithm\n",
    "│   ├── test_molecule_generation.py  # Tests for molecule generation and validation\n",
    "│   └── test_pyscf_utils.py   # Tests for PySCF integration\n",
    "├── docs/                     # Documentation folder\n",
    "│   ├── index.rst             # Main entry point for the documentation\n",
    "│   ├── requirements.txt      # List of dependencies\n",
    "│   ├── README.md             # Project overview, setup, and usage instructions\n",
    "│   └── api_reference.rst     # If you have an API or specific functions to document\n",
    "├── experiments/              # Logs, model outputs, and experiment tracking\n",
    "│   ├── graphvae_model/       # Folder to save trained GraphVAE models\n",
    "│   ├── rl_experiment_01/     # Reinforcement learning logs and data\n",
    "│   └── molecule_results/     # Folder to store generated molecules and their properties\n",
    "├── .gitignore                # Files to ignore in version control (e.g., model checkpoints)\n",
    "└── setup.py                  # For package setup and dependency management\n",
    "```"
   ]
  },
  {
   "cell_type": "markdown",
   "metadata": {
    "vscode": {
     "languageId": "plaintext"
    }
   },
   "source": [
    "## Exploratory Data Analysis"
   ]
  },
  {
   "cell_type": "code",
   "execution_count": 2,
   "metadata": {},
   "outputs": [],
   "source": [
    "import torch\n",
    "import torch_geometric as pyg\n",
    "from torch_geometric.datasets import QM9\n",
    "from torch_geometric.data import DataLoader\n",
    "\n",
    "# using the QM9 dataset, as it includes quantum properties and is of modest size\n",
    "dataset = QM9(root=\"data/QM9\")"
   ]
  },
  {
   "cell_type": "code",
   "execution_count": 3,
   "metadata": {},
   "outputs": [],
   "source": [
    "import rdkit\n",
    "from rdkit.Chem import rdDepictor\n",
    "from rdkit.Chem.Draw import rdMolDraw2D\n",
    "def moltosvg(mol,molSize=(450,150),kekulize=True):\n",
    "    # taken from\n",
    "    # https://rdkit.blogspot.com/2015/02/new-drawing-code.html\n",
    "    mc = rdkit.Chem.Mol(mol.ToBinary())\n",
    "    if kekulize:\n",
    "        try:\n",
    "            rdkit.Chem.Kekulize(mc)\n",
    "        except:\n",
    "            mc = rdkit.Chem.Mol(mol.ToBinary())\n",
    "    if not mc.GetNumConformers():\n",
    "        rdDepictor.Compute2DCoords(mc)\n",
    "    drawer = rdMolDraw2D.MolDraw2DSVG(molSize[0],molSize[1])\n",
    "    drawer.DrawMolecule(mc)\n",
    "    drawer.FinishDrawing()\n",
    "    svg = drawer.GetDrawingText()\n",
    "    # It seems that the svg renderer used doesn't quite hit the spec.\n",
    "    # Here are some fixes to make it work in the notebook, although I think\n",
    "    # the underlying issue needs to be resolved at the generation step\n",
    "    return svg.replace('svg:','')\n",
    "\n",
    "from rdkit import Chem\n",
    "\n",
    "# pyg.utils.to_rdmol(dataset[100])\n",
    "\n",
    "# # Convert the first molecule in the dataset to an RDKit molecule\n",
    "# rdkit_mol = pyg.utils.to_rdmol(dataset[0])\n",
    "\n",
    "# # Convert the RDKit molecule to a SMILES string\n",
    "# smiles = Chem.MolToSmiles(rdkit_mol)\n",
    "# # Convert the first molecule in the dataset to an RDKit molecule\n",
    "# rdkit_mol = pyg.utils.from_smiles(Chem.MolToSmiles(dataset[0]))\n",
    "\n",
    "# # Convert the RDKit molecule to a SMILES string\n",
    "# smiles = Chem.MolToSmiles(rdkit_mol)\n",
    "# print(smiles)\n"
   ]
  },
  {
   "cell_type": "code",
   "execution_count": 4,
   "metadata": {},
   "outputs": [
    {
     "data": {
      "text/plain": [
       "torch_geometric.data.data.Data"
      ]
     },
     "execution_count": 4,
     "metadata": {},
     "output_type": "execute_result"
    }
   ],
   "source": [
    "type(dataset[0])"
   ]
  },
  {
   "cell_type": "code",
   "execution_count": 5,
   "metadata": {},
   "outputs": [
    {
     "data": {
      "image/svg+xml": [
       "<svg xmlns=\"http://www.w3.org/2000/svg\" xmlns:rdkit=\"http://www.rdkit.org/xml\" xmlns:xlink=\"http://www.w3.org/1999/xlink\" version=\"1.1\" baseProfile=\"full\" xml:space=\"preserve\" width=\"450px\" height=\"150px\" viewBox=\"0 0 450 150\">\n",
       "<!-- END OF HEADER -->\n",
       "<rect style=\"opacity:1.0;fill:#FFFFFF;stroke:none\" width=\"450.0\" height=\"150.0\" x=\"0.0\" y=\"0.0\"> </rect>\n",
       "<path class=\"bond-0 atom-0 atom-1\" d=\"M 210.7,142.5 L 138.7,142.5\" style=\"fill:none;fill-rule:evenodd;stroke:#000000;stroke-width:2.0px;stroke-linecap:butt;stroke-linejoin:miter;stroke-opacity:1\"/>\n",
       "<path class=\"bond-0 atom-0 atom-1\" d=\"M 204.5,131.7 L 144.9,131.7\" style=\"fill:none;fill-rule:evenodd;stroke:#000000;stroke-width:2.0px;stroke-linecap:butt;stroke-linejoin:miter;stroke-opacity:1\"/>\n",
       "<path class=\"bond-1 atom-1 atom-2\" d=\"M 138.7,142.5 L 102.7,80.1\" style=\"fill:none;fill-rule:evenodd;stroke:#000000;stroke-width:2.0px;stroke-linecap:butt;stroke-linejoin:miter;stroke-opacity:1\"/>\n",
       "<path class=\"bond-2 atom-2 atom-3\" d=\"M 102.7,80.1 L 138.7,17.7\" style=\"fill:none;fill-rule:evenodd;stroke:#000000;stroke-width:2.0px;stroke-linecap:butt;stroke-linejoin:miter;stroke-opacity:1\"/>\n",
       "<path class=\"bond-2 atom-2 atom-3\" d=\"M 115.1,80.1 L 144.9,28.5\" style=\"fill:none;fill-rule:evenodd;stroke:#000000;stroke-width:2.0px;stroke-linecap:butt;stroke-linejoin:miter;stroke-opacity:1\"/>\n",
       "<path class=\"bond-3 atom-3 atom-4\" d=\"M 138.7,17.7 L 169.7,17.7\" style=\"fill:none;fill-rule:evenodd;stroke:#000000;stroke-width:2.0px;stroke-linecap:butt;stroke-linejoin:miter;stroke-opacity:1\"/>\n",
       "<path class=\"bond-3 atom-3 atom-4\" d=\"M 169.7,17.7 L 200.6,17.7\" style=\"fill:none;fill-rule:evenodd;stroke:#0000FF;stroke-width:2.0px;stroke-linecap:butt;stroke-linejoin:miter;stroke-opacity:1\"/>\n",
       "<path class=\"bond-4 atom-4 atom-5\" d=\"M 218.0,30.3 L 232.4,55.2\" style=\"fill:none;fill-rule:evenodd;stroke:#0000FF;stroke-width:2.0px;stroke-linecap:butt;stroke-linejoin:miter;stroke-opacity:1\"/>\n",
       "<path class=\"bond-4 atom-4 atom-5\" d=\"M 232.4,55.2 L 246.8,80.1\" style=\"fill:none;fill-rule:evenodd;stroke:#000000;stroke-width:2.0px;stroke-linecap:butt;stroke-linejoin:miter;stroke-opacity:1\"/>\n",
       "<path class=\"bond-4 atom-4 atom-5\" d=\"M 208.6,35.7 L 221.5,57.9\" style=\"fill:none;fill-rule:evenodd;stroke:#0000FF;stroke-width:2.0px;stroke-linecap:butt;stroke-linejoin:miter;stroke-opacity:1\"/>\n",
       "<path class=\"bond-4 atom-4 atom-5\" d=\"M 221.5,57.9 L 234.3,80.1\" style=\"fill:none;fill-rule:evenodd;stroke:#000000;stroke-width:2.0px;stroke-linecap:butt;stroke-linejoin:miter;stroke-opacity:1\"/>\n",
       "<path class=\"bond-5 atom-5 atom-6\" d=\"M 246.8,80.1 L 276.9,80.1\" style=\"fill:none;fill-rule:evenodd;stroke:#000000;stroke-width:2.0px;stroke-linecap:butt;stroke-linejoin:miter;stroke-opacity:1\"/>\n",
       "<path class=\"bond-5 atom-5 atom-6\" d=\"M 276.9,80.1 L 307.1,80.1\" style=\"fill:none;fill-rule:evenodd;stroke:#FF0000;stroke-width:2.0px;stroke-linecap:butt;stroke-linejoin:miter;stroke-opacity:1\"/>\n",
       "<path class=\"bond-6 atom-5 atom-0\" d=\"M 246.8,80.1 L 210.7,142.5\" style=\"fill:none;fill-rule:evenodd;stroke:#000000;stroke-width:2.0px;stroke-linecap:butt;stroke-linejoin:miter;stroke-opacity:1\"/>\n",
       "<path d=\"M 207.1,142.5 L 210.7,142.5 L 212.5,139.4\" style=\"fill:none;stroke:#000000;stroke-width:2.0px;stroke-linecap:butt;stroke-linejoin:miter;stroke-opacity:1;\"/>\n",
       "<path d=\"M 142.3,142.5 L 138.7,142.5 L 136.9,139.4\" style=\"fill:none;stroke:#000000;stroke-width:2.0px;stroke-linecap:butt;stroke-linejoin:miter;stroke-opacity:1;\"/>\n",
       "<path d=\"M 104.5,83.2 L 102.7,80.1 L 104.5,77.0\" style=\"fill:none;stroke:#000000;stroke-width:2.0px;stroke-linecap:butt;stroke-linejoin:miter;stroke-opacity:1;\"/>\n",
       "<path d=\"M 136.9,20.8 L 138.7,17.7 L 140.2,17.7\" style=\"fill:none;stroke:#000000;stroke-width:2.0px;stroke-linecap:butt;stroke-linejoin:miter;stroke-opacity:1;\"/>\n",
       "<path class=\"atom-4\" d=\"M 206.2 7.5 L 212.9 18.3 Q 213.6 19.4, 214.7 21.3 Q 215.7 23.2, 215.8 23.4 L 215.8 7.5 L 218.5 7.5 L 218.5 27.9 L 215.7 27.9 L 208.5 16.1 Q 207.7 14.7, 206.8 13.1 Q 205.9 11.5, 205.7 11.0 L 205.7 27.9 L 203.0 27.9 L 203.0 7.5 L 206.2 7.5 \" fill=\"#0000FF\"/>\n",
       "<path class=\"atom-6\" d=\"M 309.5 80.2 Q 309.5 75.3, 311.9 72.5 Q 314.3 69.8, 318.8 69.8 Q 323.3 69.8, 325.8 72.5 Q 328.2 75.3, 328.2 80.2 Q 328.2 85.1, 325.7 87.9 Q 323.3 90.7, 318.8 90.7 Q 314.3 90.7, 311.9 87.9 Q 309.5 85.1, 309.5 80.2 M 318.8 88.4 Q 321.9 88.4, 323.6 86.4 Q 325.3 84.3, 325.3 80.2 Q 325.3 76.2, 323.6 74.1 Q 321.9 72.1, 318.8 72.1 Q 315.7 72.1, 314.0 74.1 Q 312.3 76.1, 312.3 80.2 Q 312.3 84.3, 314.0 86.4 Q 315.7 88.4, 318.8 88.4 \" fill=\"#FF0000\"/>\n",
       "<path class=\"atom-6\" d=\"M 331.4 70.0 L 334.1 70.0 L 334.1 78.7 L 344.6 78.7 L 344.6 70.0 L 347.3 70.0 L 347.3 90.4 L 344.6 90.4 L 344.6 81.0 L 334.1 81.0 L 334.1 90.4 L 331.4 90.4 L 331.4 70.0 \" fill=\"#FF0000\"/>\n",
       "</svg>"
      ],
      "text/plain": [
       "<IPython.core.display.SVG object>"
      ]
     },
     "execution_count": 5,
     "metadata": {},
     "output_type": "execute_result"
    }
   ],
   "source": [
    "from IPython.display import SVG\n",
    "\n",
    "m = Chem.MolFromSmiles('c1cccnc1O')\n",
    "SVG(moltosvg(m))\n"
   ]
  },
  {
   "cell_type": "code",
   "execution_count": null,
   "metadata": {},
   "outputs": [],
   "source": [
    "# Visualisation helper functions taken from\n",
    "# https://colab.research.google.com/github/chaitjo/geometric-gnn-dojo/blob/main/geometric_gnn_101.ipynb#scrollTo=ExJ0b3xcQl5n\n",
    "import py3Dmol\n",
    "from rdkit.Chem import AllChem\n",
    "import rdkit.Chem as Chem\n",
    "from rdkit.Chem import QED, Crippen, rdMolDescriptors, rdmolops\n",
    "from rdkit.Geometry.rdGeometry import Point3D\n",
    "\n",
    "allowable_atoms = [\n",
    "    \"H\",\n",
    "    \"C\",\n",
    "    \"N\",\n",
    "    \"O\",\n",
    "    \"F\",\n",
    "    \"C\",\n",
    "    \"Cl\",\n",
    "    \"Br\",\n",
    "    \"I\",\n",
    "    \"H\",\n",
    "    \"Unknown\",\n",
    "]\n",
    "\n",
    "def to_atom(t):\n",
    "    try:\n",
    "        return allowable_atoms[int(t.argmax())]\n",
    "    except:\n",
    "        return \"C\"\n",
    "\n",
    "\n",
    "def to_bond_index(t):\n",
    "    t_s = t.squeeze()\n",
    "    return [1, 2, 3, 4][\n",
    "        int(\n",
    "            torch.dot(\n",
    "                t_s,\n",
    "                torch.tensor(\n",
    "                    range(t_s.size()[0]), dtype=torch.float, device=t.device\n",
    "                ),\n",
    "            ).item()\n",
    "        )\n",
    "    ]\n",
    "\n",
    "def to_rdkit(data, device=None):\n",
    "    has_pos = False\n",
    "    node_list = []\n",
    "    for i in range(data.x.size()[0]):\n",
    "        node_list.append(to_atom(data.x[i][:5]))\n",
    "\n",
    "    # create empty editable mol object\n",
    "    mol = Chem.RWMol()\n",
    "    # add atoms to mol and keep track of index\n",
    "    node_to_idx = {}\n",
    "    invalid_idx = set([])\n",
    "    for i in range(len(node_list)):\n",
    "        if node_list[i] == \"Stop\" or node_list[i] == \"H\":\n",
    "            invalid_idx.add(i)\n",
    "            continue\n",
    "        a = Chem.Atom(node_list[i])\n",
    "        molIdx = mol.AddAtom(a)\n",
    "        node_to_idx[i] = molIdx\n",
    "\n",
    "    added_bonds = set([])\n",
    "    for i in range(0, data.edge_index.size()[1]):\n",
    "        ix = data.edge_index[0][i].item()\n",
    "        iy = data.edge_index[1][i].item()\n",
    "        bond = to_bond_index(data.edge_attr[i])  # <font color='red'>TODO</font> fix this\n",
    "        # bond = 1\n",
    "        # add bonds between adjacent atoms\n",
    "\n",
    "        if data.edge_attr[i].sum() == 0:\n",
    "          continue\n",
    "\n",
    "        if (\n",
    "            (str((ix, iy)) in added_bonds)\n",
    "            or (str((iy, ix)) in added_bonds)\n",
    "            or (iy in invalid_idx or ix in invalid_idx)\n",
    "        ):\n",
    "            continue\n",
    "        # add relevant bond type (there are many more of these)\n",
    "\n",
    "        if bond == 0:\n",
    "            continue\n",
    "        elif bond == 1:\n",
    "            bond_type = Chem.rdchem.BondType.SINGLE\n",
    "            mol.AddBond(node_to_idx[ix], node_to_idx[iy], bond_type)\n",
    "        elif bond == 2:\n",
    "            bond_type = Chem.rdchem.BondType.DOUBLE\n",
    "            mol.AddBond(node_to_idx[ix], node_to_idx[iy], bond_type)\n",
    "        elif bond == 3:\n",
    "            bond_type = Chem.rdchem.BondType.TRIPLE\n",
    "            mol.AddBond(node_to_idx[ix], node_to_idx[iy], bond_type)\n",
    "        elif bond == 4:\n",
    "            bond_type = Chem.rdchem.BondType.SINGLE\n",
    "            mol.AddBond(node_to_idx[ix], node_to_idx[iy], bond_type)\n",
    "\n",
    "        added_bonds.add(str((ix, iy)))\n",
    "\n",
    "    if has_pos:\n",
    "        conf = Chem.Conformer(mol.GetNumAtoms())\n",
    "        for i in range(data.pos.size(0)):\n",
    "            if i in invalid_idx:\n",
    "                continue\n",
    "            p = Point3D(\n",
    "                data.pos[i][0].item(),\n",
    "                data.pos[i][1].item(),\n",
    "                data.pos[i][2].item(),\n",
    "            )\n",
    "            conf.SetAtomPosition(node_to_idx[i], p)\n",
    "        conf.SetId(0)\n",
    "        mol.AddConformer(conf)\n",
    "\n",
    "    # Convert RWMol to Mol object\n",
    "    mol = mol.GetMol()\n",
    "    mol_frags = rdmolops.GetMolFrags(mol, asMols=True, sanitizeFrags=False)\n",
    "    largest_mol = max(mol_frags, default=mol, key=lambda m: m.GetNumAtoms())\n",
    "    return largest_mol\n",
    "\n",
    "\n",
    "def MolTo3DView(mol, size=(300, 300), style=\"stick\", surface=False, opacity=0.5):\n",
    "    \"\"\"Draw molecule in 3D\n",
    "\n",
    "    Args:\n",
    "    ----\n",
    "        mol: rdMol, molecule to show\n",
    "        size: tuple(int, int), canvas size\n",
    "        style: str, type of drawing molecule\n",
    "               style can be 'line', 'stick', 'sphere', 'carton'\n",
    "        surface, bool, display SAS\n",
    "        opacity, float, opacity of surface, range 0.0-1.0\n",
    "    Return:\n",
    "    ----\n",
    "        viewer: py3Dmol.view, a class for constructing embedded 3Dmol.js views in ipython notebooks.\n",
    "    \"\"\"\n",
    "    assert style in ('line', 'stick', 'sphere', 'carton')\n",
    "\n",
    "    mol = Chem.AddHs(mol)\n",
    "    AllChem.EmbedMolecule(mol)\n",
    "    AllChem.MMFFOptimizeMolecule(mol, maxIters=200)\n",
    "    mblock = Chem.MolToMolBlock(mol)\n",
    "    viewer = py3Dmol.view(width=size[0], height=size[1])\n",
    "    viewer.addModel(mblock, 'mol')\n",
    "    viewer.setStyle({style:{}})\n",
    "    if surface:\n",
    "        viewer.addSurface(py3Dmol.SAS, {'opacity': opacity})\n",
    "    viewer.zoomTo()\n",
    "    return viewer\n",
    "\n",
    "def smi2conf(smiles):\n",
    "    '''Convert SMILES to rdkit.Mol with 3D coordinates'''\n",
    "    mol = Chem.MolFromSmiles(smiles)\n",
    "    if mol is not None:\n",
    "        mol = Chem.AddHs(mol)\n",
    "        AllChem.EmbedMolecule(mol)\n",
    "        AllChem.MMFFOptimizeMolecule(mol, maxIters=200)\n",
    "        return mol\n",
    "    else:\n",
    "        return None"
   ]
  },
  {
   "cell_type": "code",
   "execution_count": 7,
   "metadata": {},
   "outputs": [
    {
     "data": {
      "image/png": "[encoded data removed]",
      "text/plain": [
       "<IPython.core.display.Image object>"
      ]
     },
     "execution_count": 7,
     "metadata": {},
     "output_type": "execute_result"
    }
   ],
   "source": [
    "num_viz = 10\n",
    "mols = [to_rdkit(dataset[i]) for i in range(num_viz)]\n",
    "Chem.Draw.MolsToGridImage(mols, molsPerRow=5)"
   ]
  },
  {
   "cell_type": "code",
   "execution_count": 8,
   "metadata": {},
   "outputs": [],
   "source": [
    "visualise_molecule = lambda x: MolTo3DView(smi2conf(Chem.MolToSmiles(to_rdkit(x))))"
   ]
  },
  {
   "cell_type": "code",
   "execution_count": 12,
   "metadata": {},
   "outputs": [],
   "source": [
    "test_mol = dataset[0]\n",
    "visualise_molecule(test_mol)\n",
    "tmp = smi2conf(Chem.MolToSmiles(to_rdkit(test_mol)))\n",
    "# moltosvg(Chem.MolToSmiles(to_rdkit(test_mol)))\n",
    "# SVG(moltosvg(Chem.MolToSmiles(to_rdkit(test_mol))))"
   ]
  },
  {
   "cell_type": "code",
   "execution_count": 14,
   "metadata": {},
   "outputs": [
    {
     "data": {
      "image/svg+xml": [
       "<svg xmlns=\"http://www.w3.org/2000/svg\" xmlns:rdkit=\"http://www.rdkit.org/xml\" xmlns:xlink=\"http://www.w3.org/1999/xlink\" version=\"1.1\" baseProfile=\"full\" xml:space=\"preserve\" width=\"450px\" height=\"150px\" viewBox=\"0 0 450 150\">\n",
       "<!-- END OF HEADER -->\n",
       "<rect style=\"opacity:1.0;fill:#FFFFFF;stroke:none\" width=\"450.0\" height=\"150.0\" x=\"0.0\" y=\"0.0\"> </rect>\n",
       "<path class=\"bond-0 atom-0 atom-1\" d=\"M 223.9,90.1 L 218.0,112.4\" style=\"fill:none;fill-rule:evenodd;stroke:#000000;stroke-width:2.0px;stroke-linecap:butt;stroke-linejoin:miter;stroke-opacity:1\"/>\n",
       "<path class=\"bond-1 atom-0 atom-2\" d=\"M 223.9,90.1 L 229.8,37.6\" style=\"fill:none;fill-rule:evenodd;stroke:#000000;stroke-width:2.0px;stroke-linecap:butt;stroke-linejoin:miter;stroke-opacity:1\"/>\n",
       "<path class=\"bond-2 atom-0 atom-3\" d=\"M 223.9,90.1 L 269.3,107.8\" style=\"fill:none;fill-rule:evenodd;stroke:#000000;stroke-width:2.0px;stroke-linecap:butt;stroke-linejoin:miter;stroke-opacity:1\"/>\n",
       "<path class=\"bond-3 atom-0 atom-4\" d=\"M 223.9,90.1 L 180.7,95.7\" style=\"fill:none;fill-rule:evenodd;stroke:#000000;stroke-width:2.0px;stroke-linecap:butt;stroke-linejoin:miter;stroke-opacity:1\"/>\n",
       "<path class=\"atom-1\" d=\"M 202.9 114.8 L 206.6 114.8 L 206.6 126.5 L 220.8 126.5 L 220.8 114.8 L 224.6 114.8 L 224.6 142.5 L 220.8 142.5 L 220.8 129.7 L 206.6 129.7 L 206.6 142.5 L 202.9 142.5 L 202.9 114.8 \" fill=\"#000000\"/>\n",
       "<path class=\"atom-2\" d=\"M 220.8 7.5 L 224.6 7.5 L 224.6 19.3 L 238.8 19.3 L 238.8 7.5 L 242.5 7.5 L 242.5 35.2 L 238.8 35.2 L 238.8 22.4 L 224.6 22.4 L 224.6 35.2 L 220.8 35.2 L 220.8 7.5 \" fill=\"#000000\"/>\n",
       "<path class=\"atom-3\" d=\"M 271.7 99.1 L 275.4 99.1 L 275.4 110.9 L 289.6 110.9 L 289.6 99.1 L 293.4 99.1 L 293.4 126.9 L 289.6 126.9 L 289.6 114.1 L 275.4 114.1 L 275.4 126.9 L 271.7 126.9 L 271.7 99.1 \" fill=\"#000000\"/>\n",
       "<path class=\"atom-4\" d=\"M 156.6 83.6 L 160.4 83.6 L 160.4 95.4 L 174.6 95.4 L 174.6 83.6 L 178.3 83.6 L 178.3 111.3 L 174.6 111.3 L 174.6 98.5 L 160.4 98.5 L 160.4 111.3 L 156.6 111.3 L 156.6 83.6 \" fill=\"#000000\"/>\n",
       "</svg>"
      ],
      "text/plain": [
       "<IPython.core.display.SVG object>"
      ]
     },
     "execution_count": 14,
     "metadata": {},
     "output_type": "execute_result"
    }
   ],
   "source": [
    "SVG(moltosvg(tmp))"
   ]
  }
 ],
 "metadata": {
  "kernelspec": {
   "display_name": "Python 3",
   "language": "python",
   "name": "python3"
  },
  "language_info": {
   "codemirror_mode": {
    "name": "ipython",
    "version": 3
   },
   "file_extension": ".py",
   "mimetype": "text/x-python",
   "name": "python",
   "nbconvert_exporter": "python",
   "pygments_lexer": "ipython3",
   "version": "3.12.9"
  }
 },
 "nbformat": 4,
 "nbformat_minor": 2
}
